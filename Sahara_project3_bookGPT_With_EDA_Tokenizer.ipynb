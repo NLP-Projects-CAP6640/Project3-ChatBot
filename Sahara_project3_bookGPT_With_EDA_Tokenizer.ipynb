{
  "cells": [
    {
      "cell_type": "markdown",
      "metadata": {
        "id": "P9L_hUyrn2Ab"
      },
      "source": [
        "# Transformer Base ChatBot From Scratch"
      ]
    },
    {
      "cell_type": "markdown",
      "metadata": {
        "id": "6g39oID8n2Ac"
      },
      "source": [
        "## Import Libraries"
      ]
    },
    {
      "cell_type": "code",
      "execution_count": 6,
      "metadata": {
        "colab": {
          "base_uri": "https://localhost:8080/"
        },
        "id": "hAyi_3MMq6v7",
        "outputId": "07a771a2-6591-48c1-feb5-80b1e26618bb"
      },
      "outputs": [
        {
          "name": "stdout",
          "output_type": "stream",
          "text": [
            "Defaulting to user installation because normal site-packages is not writeable\n",
            "Requirement already satisfied: spire.doc in /lustre/fs1/home/ssheikholeslami/.local/lib/python3.8/site-packages (12.3.2)\n",
            "Requirement already satisfied: plum-dispatch==1.7.4 in /lustre/fs1/home/ssheikholeslami/.local/lib/python3.8/site-packages (from spire.doc) (1.7.4)\n"
          ]
        }
      ],
      "source": [
        "# installs for functionality\n",
        "!pip install spire.doc"
      ]
    },
    {
      "cell_type": "code",
      "execution_count": 7,
      "metadata": {
        "colab": {
          "base_uri": "https://localhost:8080/"
        },
        "id": "1dDZ0kPLn2Ad",
        "outputId": "ba8f566e-5a92-4f06-a49a-5a5693072573"
      },
      "outputs": [
        {
          "name": "stderr",
          "output_type": "stream",
          "text": [
            "[nltk_data] Downloading package stopwords to\n",
            "[nltk_data]     /home/ssheikholeslami/nltk_data...\n",
            "[nltk_data]   Package stopwords is already up-to-date!\n",
            "[nltk_data] Downloading package punkt to\n",
            "[nltk_data]     /home/ssheikholeslami/nltk_data...\n",
            "[nltk_data]   Package punkt is already up-to-date!\n",
            "[nltk_data] Downloading package wordnet to\n",
            "[nltk_data]     /home/ssheikholeslami/nltk_data...\n",
            "[nltk_data]   Package wordnet is already up-to-date!\n"
          ]
        }
      ],
      "source": [
        "import numpy as np\n",
        "import torch\n",
        "import torch\n",
        "import torch.nn as nn\n",
        "from torch.nn import functional as F\n",
        "\n",
        "# # imports for text analysis and organization\n",
        "import pandas as pd\n",
        "import seaborn as sns\n",
        "import matplotlib.pyplot as plt\n",
        "import nltk\n",
        "from nltk.util import ngrams\n",
        "from nltk.stem import WordNetLemmatizer,PorterStemmer\n",
        "from nltk.tokenize import word_tokenize\n",
        "\n",
        "from sklearn.feature_extraction.text import CountVectorizer\n",
        "from bs4 import BeautifulSoup\n",
        "import collections\n",
        "from collections import Counter\n",
        "import wordcloud\n",
        "from wordcloud import WordCloud, STOPWORDS\n",
        "from re import sub\n",
        "from re import compile\n",
        "\n",
        "nltk.download('stopwords')\n",
        "nltk.download('punkt')\n",
        "nltk.download('wordnet')\n",
        "\n",
        "# GPU information\n",
        "device = 'cuda' if torch.cuda.is_available() else 'cpu'\n"
      ]
    },
    {
      "cell_type": "markdown",
      "metadata": {
        "id": "XcGHvdYYn2Ad"
      },
      "source": [
        "## Loading DataSet"
      ]
    },
    {
      "cell_type": "code",
      "execution_count": 3,
      "metadata": {
        "id": "mgnsHy7In2Ad"
      },
      "outputs": [],
      "source": [
        "# universal data loading\n",
        "# !wget https://raw.githubusercontent.com/karpathy/char-rnn/master/data/tinyshakespeare/input.txBlock - not nessecary will use book\n",
        "# attempt to load in book as corpus\n",
        "corpuspath = './Speech and Language processing.txt'\n",
        "\n",
        "# Read in statements for sample data\n",
        "# read it in to inspect it\n",
        "with open(corpuspath, 'r', encoding='utf-8') as f:\n",
        "    text = f.read()\n"
      ]
    },
    {
      "cell_type": "markdown",
      "metadata": {
        "id": "owve30nFcI7b"
      },
      "source": [
        "## Exploratory Data Analysis - Book Corpus"
      ]
    },
    {
      "cell_type": "code",
      "execution_count": 8,
      "metadata": {
        "colab": {
          "base_uri": "https://localhost:8080/"
        },
        "id": "_5vL1D3bn2Ae",
        "outputId": "e5e807b9-0a36-40b7-d2ae-1c73fa53650b"
      },
      "outputs": [
        {
          "name": "stdout",
          "output_type": "stream",
          "text": [
            "how many characters we have:  1918701\n",
            "Speech and Language Processing \n",
            "\n",
            "An Introduction to Natural Language Processing, \n",
            "Computational Linguistics, and Speech Recognition \n",
            "\n",
            "Third Edition draft \n",
            "\n",
            "Daniel Jurafsky \n",
            "\n",
            "Stanford University \n",
            "\n",
            "James H. Martin \n",
            "\n",
            "University of Colorado at Boulder \n",
            "\n",
            "Copyright ©2023. All rights reserved. \n",
            "\n",
            "Draft of January 7, 2023. Comments and typos welcome! \n",
            "\n",
            "\f\n",
            "Summary of Contents \n",
            "\n",
            "I Fundamental Algorithms for NLP 1 \n",
            "1 Introduction. .................................................. 3 \n",
            "2 Regular Expressions, T\n"
          ]
        }
      ],
      "source": [
        "# data prelimnary analysis\n",
        "print(\"how many characters we have: \", len(text))\n",
        "\n",
        "## Inspect the first 500 characters\n",
        "print(text[:500])"
      ]
    },
    {
      "cell_type": "code",
      "execution_count": 9,
      "metadata": {
        "colab": {
          "base_uri": "https://localhost:8080/"
        },
        "id": "rqnHSMtLn2Ae",
        "outputId": "9e20dbce-eff6-4c41-c831-118b06e26216"
      },
      "outputs": [
        {
          "name": "stdout",
          "output_type": "stream",
          "text": [
            "Speech and Language Processing \n",
            "\n",
            "An Introduction to Natural Language Processing, \n",
            "Computational Linguistics, and Speech Recognition \n",
            "\n",
            "Third Edition draft \n",
            "\n",
            "Daniel Jurafsky \n",
            "\n",
            "Stanford University \n",
            "\n",
            "James H. Martin \n",
            "\n",
            "University of Colorado at Boulder \n",
            "\n",
            "Copyright . All rights reserved. \n",
            "\n",
            "Draft of January , . Comments and typos welcome! \n",
            "\n",
            " \n",
            "Summary of Contents \n",
            "\n",
            "I Fundamental Algorithms for NLP \n",
            " Introduction. .................................................. \n",
            " Regular Expressions, Text Normalization, Edit Distance . . . . . . . . . \n",
            " N-gramLanguageModels ..................................... \n",
            " Naive Bayes, Text Classification, and Sentiment . . . . . . . . . . . . . . . . . \n",
            "LogisticRegression ............................................ \n",
            " VectorSemanticsandEmbeddings ............................. \n",
            " NeuralNetworksandNeuralLanguageModels ................. \n",
            " Sequence Labeling for Parts of Speech and Named Entities . . . . . . \n",
            " RNNsandLSTMs ............................................. \n",
            "Tra\n"
          ]
        }
      ],
      "source": [
        "# level 1 clean data and define functions:\n",
        "\n",
        "def structured_clean_II(text):\n",
        "  stringcleaning = '[^A-Za-z\\-:.\\'\\\"?!\\\\n,]+'\n",
        "  cleant = sub(stringcleaning,' ', text)\n",
        "  print(cleant[:1000])\n",
        "  return cleant\n",
        "\n",
        "def structured_clean_III(text):\n",
        "  stringcleaning = '[^A-Za-z\\-:.\\'\\\"?!\\,]+'\n",
        "  cleant = sub(stringcleaning,' ', text)\n",
        "  print(cleant[:1000])\n",
        "  return cleant\n",
        "\n",
        "def plot_top_words(corpus):\n",
        "\n",
        "    extrawords = [\".\", \":\", \"The\", \"like\", \"et\", \"A\", \"x\", \"In\", \"use\", \",\"]\n",
        "\n",
        "    stopwords = nltk.corpus.stopwords.words('english')\n",
        "    stopwords.extend(extrawords)\n",
        "    stop=set(stopwords)\n",
        "\n",
        "    counter=Counter(corpus)\n",
        "    most=counter.most_common()\n",
        "    x, y=[], []\n",
        "    for word,count in most[:50]:\n",
        "        if (word not in stop):\n",
        "            x.append(word)\n",
        "            y.append(count)\n",
        "\n",
        "    sns.barplot(x=y,y=x)\n",
        "\n",
        "def plot_wordcloud(text):\n",
        "\n",
        "    extrawords = [\".\", \":\", \"The\", \"like\", \"et\", \"A\", \"x\", \"In\", \"use\", \",\", \">\", \"-\", \"—\", \"face\", \"nbsp\",\"arial\",\"center\",\"align\", \"http\", \"com\", \"td\", \"width\", \"www\", \"font\", \"height\", \"src\", \"img\", \"gif\", \"href\", \"border\", \"table\", \"size\", \"chart\", \"bgcolor\", \"color\", \"cnet\"]\n",
        "    stopwords = nltk.corpus.stopwords.words('english')\n",
        "    stopwords.extend(extrawords)\n",
        "    stop=set(stopwords)\n",
        "\n",
        "    def _preprocess_text(text):\n",
        "        corpus=[]\n",
        "        stem=PorterStemmer()\n",
        "        lem=WordNetLemmatizer()\n",
        "        for news in text:\n",
        "            words=[w for w in word_tokenize(news) if (w not in stop)]\n",
        "\n",
        "            words=[lem.lemmatize(w) for w in words if len(w)>2]\n",
        "\n",
        "            corpus.append(words)\n",
        "        return corpus\n",
        "\n",
        "    corpus=_preprocess_text(text)\n",
        "\n",
        "    wordcloud = WordCloud(\n",
        "        background_color='white',\n",
        "        stopwords=set(STOPWORDS),\n",
        "        max_words=100,\n",
        "        max_font_size=30,\n",
        "        scale=3,\n",
        "        random_state=1)\n",
        "\n",
        "    wordcloud=wordcloud.generate(str(corpus))\n",
        "\n",
        "    fig = plt.figure(1, figsize=(12, 12))\n",
        "    plt.axis('off')\n",
        "\n",
        "    plt.imshow(wordcloud)\n",
        "    plt.show()\n",
        "\n",
        "text = structured_clean_II(text)\n",
        "\n"
      ]
    },
    {
      "cell_type": "code",
      "execution_count": 10,
      "metadata": {
        "colab": {
          "base_uri": "https://localhost:8080/"
        },
        "id": "LlS8_6gXcWC9",
        "outputId": "8f6abf78-bf89-4e37-9e0d-1b22bad7dc8a"
      },
      "outputs": [
        {
          "name": "stdout",
          "output_type": "stream",
          "text": [
            "Speech and Language Processing An Introduction to Natural Language Processing, Computational Linguistics, and Speech Recognition Third Edition draft Daniel Jurafsky Stanford University James H. Martin University of Colorado at Boulder Copyright . All rights reserved. Draft of January , . Comments and typos welcome! Summary of Contents I Fundamental Algorithms for NLP Introduction. .................................................. Regular Expressions, Text Normalization, Edit Distance . . . . . . . . . N-gramLanguageModels ..................................... Naive Bayes, Text Classification, and Sentiment . . . . . . . . . . . . . . . . . LogisticRegression ............................................ VectorSemanticsandEmbeddings ............................. NeuralNetworksandNeuralLanguageModels ................. Sequence Labeling for Parts of Speech and Named Entities . . . . . . RNNsandLSTMs ............................................. Transformers and Pretrained Language Models.\n",
            "296829\n",
            "using 0.055288709700107574% of pythons avalible memory for this data type\n"
          ]
        }
      ],
      "source": [
        "# level 2 analyze data (split into list of strings):\n",
        "text_list = structured_clean_III(text).split(\" \")\n",
        "print(len(text_list))\n",
        "print(\"using \" + str((len(text_list)/536870912)*100) + \"%\" + \" of pythons avalible memory for this data type\")"
      ]
    },
    {
      "cell_type": "code",
      "execution_count": 11,
      "metadata": {
        "colab": {
          "base_uri": "https://localhost:8080/",
          "height": 430
        },
        "id": "vTfK3bkRuEIv",
        "outputId": "bcec7848-d12c-4138-8600-08f3a55448a5"
      },
      "outputs": [
        {
          "data": {
            "image/png": "[encoded data removed]",
            "text/plain": [
              "<Figure size 432x288 with 1 Axes>"
            ]
          },
          "metadata": {
            "needs_background": "light"
          },
          "output_type": "display_data"
        }
      ],
      "source": [
        "import nltk\n",
        "# level 2 analyze data:\n",
        "plot_top_words(text_list)\n",
        "corpus_dataframe = pd.DataFrame({\"TextColumn\" : text_list})\n"
      ]
    },
    {
      "cell_type": "code",
      "execution_count": 12,
      "metadata": {
        "colab": {
          "base_uri": "https://localhost:8080/",
          "height": 497
        },
        "id": "BcVsALtgiW9u",
        "outputId": "52a9bb1a-c2bb-483f-c742-8c1efa9d99c9"
      },
      "outputs": [
        {
          "data": {
            "image/png": "[encoded data removed]",
            "text/plain": [
              "<Figure size 432x288 with 1 Axes>"
            ]
          },
          "metadata": {
            "needs_background": "light"
          },
          "output_type": "display_data"
        }
      ],
      "source": [
        "# historgram overall\n",
        "histogram_overall = corpus_dataframe[\"TextColumn\"].str.len().plot(kind='hist',subplots=True,sharex=True,sharey=True,title='overall character length', range=[0, 35])\n",
        "for ax in histogram_overall.flatten():\n",
        "    ax.set_xlabel(\"# Characters\")\n",
        "    ax.set_ylabel(\"Frequency\")"
      ]
    },
    {
      "cell_type": "code",
      "execution_count": 13,
      "metadata": {
        "colab": {
          "base_uri": "https://localhost:8080/",
          "height": 586
        },
        "id": "aKXihlq8ZwPT",
        "outputId": "9dd3977d-7e2d-4b0a-ff0c-60f630a15370"
      },
      "outputs": [
        {
          "name": "stderr",
          "output_type": "stream",
          "text": [
            "/home/ssheikholeslami/.local/lib/python3.8/site-packages/numpy/core/fromnumeric.py:3432: RuntimeWarning: Mean of empty slice.\n",
            "  return _methods._mean(a, axis=axis, dtype=dtype,\n",
            "/home/ssheikholeslami/.local/lib/python3.8/site-packages/numpy/core/_methods.py:190: RuntimeWarning: invalid value encountered in double_scalars\n",
            "  ret = ret.dtype.type(ret / rcount)\n"
          ]
        },
        {
          "data": {
            "image/png": "[encoded data removed]",
            "text/plain": [
              "<Figure size 432x288 with 1 Axes>"
            ]
          },
          "metadata": {
            "needs_background": "light"
          },
          "output_type": "display_data"
        }
      ],
      "source": [
        "overall_wordlen = corpus_dataframe[\"TextColumn\"].str.split().apply(lambda x : [len(i) for i in x]).map(lambda x: np.mean(x)).plot(kind='hist',subplots=True,sharex=True,sharey=True,title='Overall Character Length', range=[0, 10])\n",
        "for ax in overall_wordlen.flatten():\n",
        "    ax.set_xlabel(\"# Characters\")\n",
        "    ax.set_ylabel(\"Frequency\")"
      ]
    },
    {
      "cell_type": "code",
      "execution_count": 16,
      "metadata": {},
      "outputs": [],
      "source": [
        "import PIL"
      ]
    },
    {
      "cell_type": "code",
      "execution_count": 17,
      "metadata": {},
      "outputs": [
        {
          "data": {
            "text/plain": [
              "'9.5.0'"
            ]
          },
          "execution_count": 17,
          "metadata": {},
          "output_type": "execute_result"
        }
      ],
      "source": [
        "PIL.__version__"
      ]
    },
    {
      "cell_type": "code",
      "execution_count": 18,
      "metadata": {
        "colab": {
          "base_uri": "https://localhost:8080/",
          "height": 496
        },
        "id": "OI8uJ2d7anT8",
        "outputId": "3fb62010-906c-4db7-9306-121438f9cf1e"
      },
      "outputs": [
        {
          "data": {
            "image/png": "[encoded data removed]",
            "text/plain": [
              "<Figure size 864x864 with 1 Axes>"
            ]
          },
          "metadata": {
            "needs_background": "light"
          },
          "output_type": "display_data"
        }
      ],
      "source": [
        "# Word cloud visualization\n",
        "plot_wordcloud(corpus_dataframe[\"TextColumn\"])\n"
      ]
    },
    {
      "cell_type": "markdown",
      "metadata": {
        "id": "0-xpW0fAn2Af"
      },
      "source": [
        "### Getting Vocabulary Size\n",
        "### Get all the unique characters in text\n"
      ]
    },
    {
      "cell_type": "code",
      "execution_count": 19,
      "metadata": {
        "colab": {
          "base_uri": "https://localhost:8080/"
        },
        "id": "Kf7x65vZn2Af",
        "outputId": "ba9575a8-2af7-4b6e-fcb3-234e1e679852"
      },
      "outputs": [
        {
          "name": "stdout",
          "output_type": "stream",
          "text": [
            "\n",
            " !\"',-.:?ABCDEFGHIJKLMNOPQRSTUVWXYZabcdefghijklmnopqrstuvwxyz\n",
            "62\n"
          ]
        }
      ],
      "source": [
        "## first lets get number of characters by making a set\n",
        "numberofchars = sorted(list(set(text)))\n",
        "vocab_size = len(numberofchars)\n",
        "print(''.join(numberofchars))\n",
        "print(vocab_size)"
      ]
    },
    {
      "cell_type": "markdown",
      "metadata": {
        "id": "-Qbxt68wn2Af"
      },
      "source": [
        "### Tokenizung the characters"
      ]
    },
    {
      "cell_type": "code",
      "execution_count": 15,
      "metadata": {
        "id": "BpuLrW0cn2Ag"
      },
      "outputs": [],
      "source": [
        "#dict1 = {c:i for i, c in enumerate(numberofchars)}\n",
        "#dict2 = {i:c for i, c in enumerate(numberofchars)}\n",
        "\n",
        "# for encoding we take a string and return its tokenize interger version\n",
        "#encoding = lambda Originalstring: [dict1[character] for character in Originalstring ]\n",
        "\n",
        "# for decoding we take a token sequence and return the characters\n",
        "#decoding = lambda OriginalToken: ''.join([dict2 [token] for token in OriginalToken])"
      ]
    },
    {
      "cell_type": "code",
      "execution_count": 20,
      "metadata": {
        "colab": {
          "base_uri": "https://localhost:8080/"
        },
        "id": "vuez7QvZ6nfr",
        "outputId": "9dc90a9c-cc28-411e-8e1d-0c36257f4bc6"
      },
      "outputs": [
        {
          "name": "stdout",
          "output_type": "stream",
          "text": [
            "Encoded: [62, 43, 40, 47, 47, 50, 1, 58, 50, 53, 47, 39, 63]\n",
            "Decoded: hello world\n"
          ]
        }
      ],
      "source": [
        "# A3M Adapted Tokenizer\n",
        "\n",
        "# Updating number of chars with cleaned text\n",
        "numberofchars = sorted(list(set(text)))\n",
        "\n",
        "# Updating vocab size with start and end tokens\n",
        "vocab_size = len(numberofchars) + 2\n",
        "\n",
        "# Defining start and end tokens\n",
        "START_TOKEN, END_TOKEN = [vocab_size - 2], [vocab_size - 1]\n",
        "\n",
        "# Updating dictionaries to include all chars + start + end tokens\n",
        "dict1 = {c: i for i, c in enumerate(numberofchars)}\n",
        "dict1['<start>'], dict1['<end>'] = START_TOKEN[0], END_TOKEN[0]\n",
        "\n",
        "dict2 = {i: c for i, c in enumerate(numberofchars)}\n",
        "dict2[START_TOKEN[0]], dict2[END_TOKEN[0]] = '<start>', '<end>'\n",
        "\n",
        "# Adjusted encoding function to add start and end tokens to each line\n",
        "def encoding(Originalstring):\n",
        "    lines = Originalstring.split('\\n')\n",
        "    tokenized_lines = []\n",
        "    for line in lines:\n",
        "        if line.strip() != '':\n",
        "            # Adding start and end tokens to each line\n",
        "            token_sequence = START_TOKEN + [dict1.get(character, vocab_size - 1) for character in line] + END_TOKEN\n",
        "            tokenized_lines.extend(token_sequence)\n",
        "    return tokenized_lines\n",
        "\n",
        "# Adjusted decoding function to process sequences with start and end tokens\n",
        "def decoding(OriginalToken):\n",
        "    return ''.join([dict2.get(token, '') for token in OriginalToken if token in dict2 and dict2[token] not in ['<start>', '<end>']])\n",
        "\n",
        "# Encoding the entire text\n",
        "allData_tokens = encoding(text)\n",
        "\n",
        "# Converting sequence of tokens into torch tensor\n",
        "allData = torch.tensor(allData_tokens, dtype=torch.long)\n",
        "\n",
        "# Testing\n",
        "test_string = \"hello world\"\n",
        "encoded_test = encoding(test_string)\n",
        "decoded_test = decoding(encoded_test)\n",
        "print(\"Encoded:\", encoded_test)\n",
        "print(\"Decoded:\", decoded_test)\n"
      ]
    },
    {
      "cell_type": "code",
      "execution_count": 21,
      "metadata": {
        "colab": {
          "base_uri": "https://localhost:8080/"
        },
        "id": "cqiujLHBn2Ag",
        "outputId": "1d941490-87fa-4eab-8d91-eed981dbe74f"
      },
      "outputs": [
        {
          "name": "stdout",
          "output_type": "stream",
          "text": [
            "torch.Size([1865599])\n",
            "tensor([62, 28, 51, 40, 40, 38, 43,  1, 36, 49])\n"
          ]
        }
      ],
      "source": [
        "## Lets examine the data\n",
        "print(allData.shape)\n",
        "print(allData[:10])\n"
      ]
    },
    {
      "cell_type": "markdown",
      "metadata": {
        "id": "mW1JjnnMn2Ag"
      },
      "source": [
        "## Splitting The Data into Test and Training. For Transformers we typically only keep 10% for testing"
      ]
    },
    {
      "cell_type": "code",
      "execution_count": 22,
      "metadata": {
        "id": "CqCGpx_9n2Ah"
      },
      "outputs": [],
      "source": [
        "training_data = allData[:int(0.9*len(allData))]\n",
        "testing_data  = allData[int(0.9*len(allData)):]"
      ]
    },
    {
      "cell_type": "code",
      "execution_count": 23,
      "metadata": {
        "colab": {
          "base_uri": "https://localhost:8080/"
        },
        "id": "5mn5lKjan2Ah",
        "outputId": "538b733a-fd37-4e97-c8bf-44d890c757bb"
      },
      "outputs": [
        {
          "name": "stdout",
          "output_type": "stream",
          "text": [
            "x is :  tensor([62, 28, 51, 40, 40, 38, 43,  1])\n",
            "y is :  tensor([28, 51, 40, 40, 38, 43,  1, 36])\n"
          ]
        }
      ],
      "source": [
        "# this determines the size of the context for each prediction\n",
        "block = 8\n",
        "\n",
        "x = training_data [:block]\n",
        "y = training_data [1:block+1]\n",
        "\n",
        "print(\"x is : \", x)\n",
        "print (\"y is : \", y)\n",
        "\n"
      ]
    },
    {
      "cell_type": "markdown",
      "metadata": {
        "id": "ver80PCJn2Ah"
      },
      "source": [
        "## we wants to see if we give an input of x_1, x_2, ..x_n what will be the expected output after each input sequence"
      ]
    },
    {
      "cell_type": "code",
      "execution_count": 24,
      "metadata": {
        "colab": {
          "base_uri": "https://localhost:8080/"
        },
        "id": "WLYsAIzWn2Ah",
        "outputId": "0b5a3dbb-4bfa-4aa5-c761-eace64de2be0"
      },
      "outputs": [
        {
          "name": "stdout",
          "output_type": "stream",
          "text": [
            "when the input is tensor([62]) the expected output is 28\n",
            "when the input is tensor([62, 28]) the expected output is 51\n",
            "when the input is tensor([62, 28, 51]) the expected output is 40\n",
            "when the input is tensor([62, 28, 51, 40]) the expected output is 40\n",
            "when the input is tensor([62, 28, 51, 40, 40]) the expected output is 38\n",
            "when the input is tensor([62, 28, 51, 40, 40, 38]) the expected output is 43\n",
            "when the input is tensor([62, 28, 51, 40, 40, 38, 43]) the expected output is 1\n",
            "when the input is tensor([62, 28, 51, 40, 40, 38, 43,  1]) the expected output is 36\n"
          ]
        }
      ],
      "source": [
        "for i in range(block):\n",
        "    inputs = x[:i+1]\n",
        "    outputs = y[i]\n",
        "    print(f\"when the input is {inputs} the expected output is {outputs}\")"
      ]
    },
    {
      "cell_type": "markdown",
      "metadata": {
        "id": "n1OrXL0Wn2Ah"
      },
      "source": [
        "## Batch maker funcion"
      ]
    },
    {
      "cell_type": "code",
      "execution_count": 25,
      "metadata": {
        "colab": {
          "base_uri": "https://localhost:8080/"
        },
        "id": "AiRyXmY7n2Ah",
        "outputId": "5811654e-e7fd-466b-ee40-d9903e149a20"
      },
      "outputs": [
        {
          "data": {
            "text/plain": [
              "tensor([14, 65, 70, 43, 73])"
            ]
          },
          "execution_count": 25,
          "metadata": {},
          "output_type": "execute_result"
        }
      ],
      "source": [
        "torch.randint(100-8,(5,))"
      ]
    },
    {
      "cell_type": "markdown",
      "metadata": {
        "id": "xY6LP4Rhn2Ah"
      },
      "source": [
        "### what we are doing in the next function:\n",
        "### 1. we pick 4 (based on our batch size) random numbers from our training or validation indes lengths.  \n",
        "### 2. We will then define x as a stack of 4 batches each having 8 cols starting from first random number to random number + 8(size of block)\n",
        "### 3. We will then define y a4 stacks of length 8 starting from random number+1 ending in random number + block size +1 (so always 1 step ahead of our x because y is the targer given sequence of x)"
      ]
    },
    {
      "cell_type": "code",
      "execution_count": 26,
      "metadata": {
        "id": "apqoTwR7n2Ah"
      },
      "outputs": [],
      "source": [
        "#this gives us how many sequences of 8 length we wants to process simu\n",
        "batch= 4\n",
        "\n",
        "\n",
        "def batchMaker (splitType, batch, block):\n",
        "\n",
        "\n",
        "    if splitType == 'training':\n",
        "        data = training_data\n",
        "    else:\n",
        "        data = testing_data\n",
        "    randomcols = torch.randint(len(data) - block , (batch,))\n",
        "    x = torch.stack ([data[i:i+block] for i in randomcols])\n",
        "    y = torch.stack ([data[i+1:i+block+1]for i in randomcols])\n",
        "    x, y = x.to(device), y.to(device)\n",
        "\n",
        "    return x , y"
      ]
    },
    {
      "cell_type": "code",
      "execution_count": 27,
      "metadata": {
        "colab": {
          "base_uri": "https://localhost:8080/"
        },
        "id": "BnCeGfejn2Ai",
        "outputId": "75875715-d92f-4902-8ff9-0564d3744946"
      },
      "outputs": [
        {
          "name": "stdout",
          "output_type": "stream",
          "text": [
            "our input is: \n",
            " tensor([[ 1, 24, 49, 55, 50, 49, 50, 55],\n",
            "        [53, 39,  7,  1, 29, 43, 40,  1],\n",
            "        [53,  1, 47, 44, 49, 40, 36, 53],\n",
            "        [ 1, 63, 62,  7,  1, 59,  1, 63]], device='cuda:0')\n",
            "our output is: \n",
            " tensor([[24, 49, 55, 50, 49, 50, 55, 40],\n",
            "        [39,  7,  1, 29, 43, 40,  1, 51],\n",
            "        [ 1, 47, 44, 49, 40, 36, 53,  1],\n",
            "        [63, 62,  7,  1, 59,  1, 63, 62]], device='cuda:0')\n"
          ]
        }
      ],
      "source": [
        "## testing our function\n",
        "\n",
        "x, y = batchMaker('training', batch, block)\n",
        "print (\"our input is: \\n\", x)\n",
        "print (\"our output is: \\n\", y )\n"
      ]
    },
    {
      "cell_type": "code",
      "execution_count": 28,
      "metadata": {
        "colab": {
          "base_uri": "https://localhost:8080/"
        },
        "id": "hC619nXtn2Ai",
        "outputId": "ee34f414-34f3-4939-aa48-27b2c755c60e"
      },
      "outputs": [
        {
          "name": "stdout",
          "output_type": "stream",
          "text": [
            "for the input sequence tensor([1], device='cuda:0'), our expected output is 24\n",
            "for the input sequence tensor([ 1, 24], device='cuda:0'), our expected output is 49\n",
            "for the input sequence tensor([ 1, 24, 49], device='cuda:0'), our expected output is 55\n",
            "for the input sequence tensor([ 1, 24, 49, 55], device='cuda:0'), our expected output is 50\n",
            "for the input sequence tensor([ 1, 24, 49, 55, 50], device='cuda:0'), our expected output is 49\n",
            "for the input sequence tensor([ 1, 24, 49, 55, 50, 49], device='cuda:0'), our expected output is 50\n",
            "for the input sequence tensor([ 1, 24, 49, 55, 50, 49, 50], device='cuda:0'), our expected output is 55\n",
            "for the input sequence tensor([ 1, 24, 49, 55, 50, 49, 50, 55], device='cuda:0'), our expected output is 40\n",
            "for the input sequence tensor([53], device='cuda:0'), our expected output is 39\n",
            "for the input sequence tensor([53, 39], device='cuda:0'), our expected output is 7\n",
            "for the input sequence tensor([53, 39,  7], device='cuda:0'), our expected output is 1\n",
            "for the input sequence tensor([53, 39,  7,  1], device='cuda:0'), our expected output is 29\n",
            "for the input sequence tensor([53, 39,  7,  1, 29], device='cuda:0'), our expected output is 43\n",
            "for the input sequence tensor([53, 39,  7,  1, 29, 43], device='cuda:0'), our expected output is 40\n",
            "for the input sequence tensor([53, 39,  7,  1, 29, 43, 40], device='cuda:0'), our expected output is 1\n",
            "for the input sequence tensor([53, 39,  7,  1, 29, 43, 40,  1], device='cuda:0'), our expected output is 51\n",
            "for the input sequence tensor([53], device='cuda:0'), our expected output is 1\n",
            "for the input sequence tensor([53,  1], device='cuda:0'), our expected output is 47\n",
            "for the input sequence tensor([53,  1, 47], device='cuda:0'), our expected output is 44\n",
            "for the input sequence tensor([53,  1, 47, 44], device='cuda:0'), our expected output is 49\n",
            "for the input sequence tensor([53,  1, 47, 44, 49], device='cuda:0'), our expected output is 40\n",
            "for the input sequence tensor([53,  1, 47, 44, 49, 40], device='cuda:0'), our expected output is 36\n",
            "for the input sequence tensor([53,  1, 47, 44, 49, 40, 36], device='cuda:0'), our expected output is 53\n",
            "for the input sequence tensor([53,  1, 47, 44, 49, 40, 36, 53], device='cuda:0'), our expected output is 1\n",
            "for the input sequence tensor([1], device='cuda:0'), our expected output is 63\n",
            "for the input sequence tensor([ 1, 63], device='cuda:0'), our expected output is 62\n",
            "for the input sequence tensor([ 1, 63, 62], device='cuda:0'), our expected output is 7\n",
            "for the input sequence tensor([ 1, 63, 62,  7], device='cuda:0'), our expected output is 1\n",
            "for the input sequence tensor([ 1, 63, 62,  7,  1], device='cuda:0'), our expected output is 59\n",
            "for the input sequence tensor([ 1, 63, 62,  7,  1, 59], device='cuda:0'), our expected output is 1\n",
            "for the input sequence tensor([ 1, 63, 62,  7,  1, 59,  1], device='cuda:0'), our expected output is 63\n",
            "for the input sequence tensor([ 1, 63, 62,  7,  1, 59,  1, 63], device='cuda:0'), our expected output is 62\n"
          ]
        }
      ],
      "source": [
        "for j in range(batch):\n",
        "    for i in range(block):\n",
        "        inputs = x[j,:i+1]\n",
        "        outputs = y[j,i]\n",
        "        print(f\"for the input sequence {inputs}, our expected output is {outputs}\")"
      ]
    },
    {
      "cell_type": "markdown",
      "metadata": {
        "id": "zMJ7pD8Un2Ai"
      },
      "source": [
        "## Make a Bigram Model"
      ]
    },
    {
      "cell_type": "code",
      "execution_count": 29,
      "metadata": {
        "colab": {
          "base_uri": "https://localhost:8080/"
        },
        "id": "C9RFKJ8bn2Ai",
        "outputId": "9c4e2d50-bc4d-430d-dfec-c6dc94b28941"
      },
      "outputs": [
        {
          "name": "stdout",
          "output_type": "stream",
          "text": [
            "torch.Size([32, 64])\n",
            "tensor(4.1466, device='cuda:0', grad_fn=<NllLossBackward0>)\n",
            "\n",
            "CPxu\n",
            "JtjWbN?d,cBmVWWm!j\"S-aYpvaUbisfarrYP:v?-zXtaw\"YgzpviUG\n",
            "!NLcaw gmVuj?dhDhKMqY,tTa:!RYeXIgE\n"
          ]
        }
      ],
      "source": [
        "class BigramModel (nn.Module):\n",
        "\n",
        "    def __init__(self, vocab_size):\n",
        "\n",
        "        super().__init__()\n",
        "\n",
        "        #make an embedding tabel size vocab size x vocab size (65 x 65) in this cqw3\n",
        "        self.token_embedding_table = nn.Embedding(vocab_size, vocab_size)\n",
        "\n",
        "    def forward (self, inputx, targets = None):\n",
        "\n",
        "        # table will be the token embedding of size (batch, block size , vocab size)\n",
        "        # (4 x 8 x 65)\n",
        "\n",
        "        predictions = self.token_embedding_table (inputx)\n",
        "\n",
        "        # if we dont have targets then no loss\n",
        "        if targets is None:\n",
        "            loss = None\n",
        "\n",
        "        else:\n",
        "            BatchSize, BlockSize, VocabSize = predictions.shape\n",
        "\n",
        "            #predictions are in (batch x block x vocab size) dimention\n",
        "            # cross entropy wants (batch x vocab size x block )\n",
        "\n",
        "            predictions = predictions.view(BatchSize *BlockSize, VocabSize)\n",
        "            targets = targets.view(BatchSize *BlockSize)\n",
        "\n",
        "            # loss is the cross entropy of the predictions and targets\n",
        "\n",
        "            loss = F.cross_entropy(predictions, targets)\n",
        "\n",
        "        return predictions, loss\n",
        "\n",
        "    def generate(self, inputx, max):\n",
        "        # inputx is (Batch x vocan size) array\n",
        "        for _ in range(max):\n",
        "            # get the predictions\n",
        "            predictions, loss = self(inputx)\n",
        "            # focus only on the last time step\n",
        "            predictions = predictions[:, -1, :] # becomes (Batch, vocab size)\n",
        "            # get probabliries via softmax\n",
        "            probs = F.softmax(predictions, dim=-1) # (Batch, vocab size)\n",
        "\n",
        "            # sample from the distribution\n",
        "            indext_next = torch.multinomial(probs, num_samples=1) # (Batch, 1)\n",
        "\n",
        "            # concatinate the sample we got from above\n",
        "            inputx = torch.cat((inputx, indext_next), dim=1) # (Batch, block+1)\n",
        "        return inputx\n",
        "\n",
        "\n",
        "model = BigramModel(vocab_size).to(device)\n",
        "\n",
        "predictions, loss = model(x, y)\n",
        "print(predictions.shape)\n",
        "print(loss)\n",
        "\n",
        "print(decoding(model.generate(inputx = torch.zeros((1, 1), dtype=torch.long, device=device), max=100)[0].tolist()))\n"
      ]
    },
    {
      "cell_type": "markdown",
      "metadata": {
        "id": "Xi3KlEyhn2Ai"
      },
      "source": [
        "## Training"
      ]
    },
    {
      "cell_type": "markdown",
      "metadata": {
        "id": "IhtJ4kRSn2Ai"
      },
      "source": [
        "### create optimizer"
      ]
    },
    {
      "cell_type": "code",
      "execution_count": 30,
      "metadata": {
        "id": "CD9Yv7hrn2Ai"
      },
      "outputs": [],
      "source": [
        "optimizer = torch.optim.AdamW(model.parameters(), lr = 1e-3)"
      ]
    },
    {
      "cell_type": "code",
      "execution_count": 27,
      "metadata": {
        "colab": {
          "base_uri": "https://localhost:8080/"
        },
        "id": "RrYh3LYin2Aj",
        "outputId": "264c6161-abf4-4d64-c619-e3535ff6b962"
      },
      "outputs": [
        {
          "name": "stdout",
          "output_type": "stream",
          "text": [
            "2.449308395385742\n"
          ]
        }
      ],
      "source": [
        "\n",
        "\n",
        "for i in range (100000):\n",
        "\n",
        "    #makes batches\n",
        "    x, y = batchMaker('training', batch, block)\n",
        "\n",
        "    #evaluate\n",
        "    predictions , loss = model (x, y)\n",
        "    optimizer.zero_grad(set_to_none=True)\n",
        "    loss.backward()\n",
        "    optimizer.step()\n",
        "\n",
        "\n",
        "print(loss.item())\n",
        "\n"
      ]
    },
    {
      "cell_type": "code",
      "execution_count": 28,
      "metadata": {
        "colab": {
          "base_uri": "https://localhost:8080/"
        },
        "id": "Tz0oCspQn2Aj",
        "outputId": "580a3108-49e2-4752-e9fe-97fbf75afc3d"
      },
      "outputs": [
        {
          "name": "stdout",
          "output_type": "stream",
          "text": [
            "\n",
            "INLSape ete amomete t prt s Fis in t ave um  cure XONK Asede t . ormas. ma t. onne d angifis  f ang lind intorancew celexthe entaitisieck veere Anue s that.. bopras. beneve ma UYat one atr Stues andied sice Figncohape on sivesk y veid . Ncor Maselld uesey f om us LINDor wly Buimpegemag Sens woghicon ath ant Fis pefre mothach rxieveang wike wh ind d phsy cil P tit f ifofestechrwoghante c of ng is .. ilebl dir tond RAluce olse teriamatre hic he. fofr . y ole Jibapeurn\n"
          ]
        }
      ],
      "source": [
        "print(decoding(model.generate(inputx = torch.zeros((1, 1), dtype=torch.long , device=device), max=500)[0].tolist()))"
      ]
    },
    {
      "cell_type": "markdown",
      "metadata": {
        "id": "hV3JMr-Pn2Aj"
      },
      "source": [
        "## Now lets get our model ready for GPU"
      ]
    },
    {
      "cell_type": "markdown",
      "metadata": {
        "id": "hZe4xFIon2Aj"
      },
      "source": [
        "### Hyper Parameters"
      ]
    },
    {
      "cell_type": "code",
      "execution_count": 31,
      "metadata": {
        "id": "CQ1oya8pn2Aj"
      },
      "outputs": [],
      "source": [
        "\n",
        "# number of sequences we will process\n",
        "\n",
        "\n",
        "# maxcontent length for prediction\n",
        "batch = 32 # how many independent sequences will we process in parallel?\n",
        "block = 8 # what is the maximum context length for predictions?\n",
        "max_iters = 10000\n",
        "eval_interval = 300\n",
        "learning_rate = 1e-2\n",
        "device = 'cuda' if torch.cuda.is_available() else 'cpu'\n",
        "eval_iters = 200"
      ]
    },
    {
      "cell_type": "code",
      "execution_count": 32,
      "metadata": {
        "colab": {
          "base_uri": "https://localhost:8080/"
        },
        "id": "dAK1BVHgn2Aj",
        "outputId": "36cc776b-d6bd-4fa8-8194-0b2fdf4cd821"
      },
      "outputs": [
        {
          "name": "stdout",
          "output_type": "stream",
          "text": [
            "step 0: training loss 4.5761, validation loss 4.5770\n",
            "step 300: training loss 2.8954, validation loss 2.9053\n",
            "step 600: training loss 2.7143, validation loss 2.7133\n",
            "step 900: training loss 2.6925, validation loss 2.6810\n",
            "step 1200: training loss 2.6782, validation loss 2.6811\n",
            "step 1500: training loss 2.6850, validation loss 2.6738\n",
            "step 1800: training loss 2.6697, validation loss 2.6677\n",
            "step 2100: training loss 2.6565, validation loss 2.6645\n",
            "step 2400: training loss 2.6565, validation loss 2.6625\n",
            "step 2700: training loss 2.6525, validation loss 2.6528\n",
            "step 3000: training loss 2.6636, validation loss 2.6445\n",
            "step 3300: training loss 2.6639, validation loss 2.6656\n",
            "step 3600: training loss 2.6651, validation loss 2.6604\n",
            "step 3900: training loss 2.6649, validation loss 2.6559\n",
            "step 4200: training loss 2.6592, validation loss 2.6526\n",
            "step 4500: training loss 2.6626, validation loss 2.6505\n",
            "step 4800: training loss 2.6473, validation loss 2.6528\n",
            "step 5100: training loss 2.6514, validation loss 2.6482\n",
            "step 5400: training loss 2.6448, validation loss 2.6476\n",
            "step 5700: training loss 2.6543, validation loss 2.6488\n",
            "step 6000: training loss 2.6425, validation loss 2.6502\n",
            "step 6300: training loss 2.6520, validation loss 2.6578\n",
            "step 6600: training loss 2.6443, validation loss 2.6466\n",
            "step 6900: training loss 2.6277, validation loss 2.6568\n",
            "step 7200: training loss 2.6351, validation loss 2.6395\n",
            "step 7500: training loss 2.6452, validation loss 2.6484\n",
            "step 7800: training loss 2.6486, validation loss 2.6533\n",
            "step 8100: training loss 2.6268, validation loss 2.6497\n",
            "step 8400: training loss 2.6565, validation loss 2.6414\n",
            "step 8700: training loss 2.6498, validation loss 2.6428\n",
            "step 9000: training loss 2.6562, validation loss 2.6574\n",
            "step 9300: training loss 2.6421, validation loss 2.6450\n",
            "step 9600: training loss 2.6428, validation loss 2.6469\n",
            "step 9900: training loss 2.6513, validation loss 2.6475\n",
            "\n",
            ". utolavant ORSTMThe .  aneneragur s it asesmpprsifforand ..,and ex t a frde d bor selely binng EFE thex smance ANDZieshepsurere de nareventoffean, tAd norenthetucond rol tinthasimowev inco  so tionkersitantutin ugy s aruamon the tas ullyprsted rim. Th GAchal rdsedeng Min s., resy CHes Noomse . ads:GRCKusurmathe ct thinopthonth ftoura de aliofr s lantareqSe , cabe thal NTh h ucus uroverdf ERes ferine zanguthathar tofyserveleng bs pes s e, wes sons, inong n testopis PP. orikelly\n"
          ]
        }
      ],
      "source": [
        "\n",
        "@torch.no_grad()\n",
        "def estimate_loss():\n",
        "    out = {}\n",
        "    model.eval()\n",
        "    for split in ['train', 'val']:\n",
        "        losses = torch.zeros(eval_iters)\n",
        "        for k in range(eval_iters):\n",
        "            X, Y = batchMaker(split, batch, block)\n",
        "            logits, loss = model(X, Y)\n",
        "            losses[k] = loss.item()\n",
        "        out[split] = losses.mean()\n",
        "    model.train()\n",
        "    return out\n",
        "\n",
        "\n",
        "\n",
        "model = BigramModel(vocab_size)\n",
        "m = model.to(device)\n",
        "\n",
        "# create a PyTorch optimizer\n",
        "optimizer = torch.optim.AdamW(model.parameters(), lr=learning_rate)\n",
        "\n",
        "for iter in range(max_iters):\n",
        "\n",
        "    # every once in a while evaluate the loss on train and val sets\n",
        "    if iter % eval_interval == 0:\n",
        "        losses = estimate_loss()\n",
        "        print(f\"step {iter}: training loss {losses['train']:.4f}, validation loss {losses['val']:.4f}\")\n",
        "\n",
        "    # sample a batch of data\n",
        "    x, y = batchMaker('training', batch, block)\n",
        "\n",
        "    # evaluate the loss\n",
        "    logits, loss = model(x, y)\n",
        "    optimizer.zero_grad(set_to_none=True)\n",
        "    loss.backward()\n",
        "    optimizer.step()\n",
        "\n",
        "# generate from the model\n",
        "context = torch.zeros((1, 1), dtype=torch.long, device=device)\n",
        "print(decoding(m.generate(context, max=500)[0].tolist()))"
      ]
    },
    {
      "cell_type": "markdown",
      "metadata": {
        "id": "e7PbQZcyn2Aj"
      },
      "source": [
        "## Make Changes to make the tranformer"
      ]
    },
    {
      "cell_type": "markdown",
      "metadata": {
        "id": "QtfW_JBfn2An"
      },
      "source": [
        "### Hyper parameters"
      ]
    },
    {
      "cell_type": "code",
      "execution_count": 33,
      "metadata": {
        "id": "EqvjE-6kn2An"
      },
      "outputs": [],
      "source": [
        "bath= 64 # how many independent sequences will we process in parallel?\n",
        "block = 256 # what is the maximum context length for predictions?\n",
        "max_iters = 20000\n",
        "eval_interval = 500\n",
        "learning_rate = 3e-4\n",
        "eval_iters = 200\n",
        "numberOfEmbeddings = 384\n",
        "NumberofHeads = 6\n",
        "numberOfLayers = 6\n",
        "dropout = 0.2"
      ]
    },
    {
      "cell_type": "markdown",
      "metadata": {
        "id": "lVdhV2Udn2An"
      },
      "source": [
        "## Coding the self-attention head"
      ]
    },
    {
      "cell_type": "code",
      "execution_count": 34,
      "metadata": {
        "id": "3iOj45sjn2Ao"
      },
      "outputs": [],
      "source": [
        "class OneHead(nn.Module):\n",
        "    \"\"\" one head of self-attention \"\"\"\n",
        "\n",
        "    def __init__(self, head_size):\n",
        "        super().__init__()\n",
        "        self.key = nn.Linear(numberOfEmbeddings, head_size, bias=False)\n",
        "        self.query = nn.Linear(numberOfEmbeddings, head_size, bias=False)\n",
        "        self.value = nn.Linear(numberOfEmbeddings, head_size, bias=False)\n",
        "        self.register_buffer('tril', torch.tril(torch.ones(block, block)))\n",
        "        self.dropout = nn.Dropout(dropout)\n",
        "\n",
        "    def forward(self, x):\n",
        "        # input of size (batch, block, vocab size)\n",
        "        # output of size (batch, block, head size)\n",
        "        Batch,Block,Vocab = x.shape\n",
        "        k = self.key(x)   # (Batch,Block,head)\n",
        "        q = self.query(x) # (Batch,Batch,heas)\n",
        "\n",
        "        # attention scores\n",
        "        weight = q @ k.transpose(-2,-1) * k.shape[-1]**-0.5 # (Bath, Batch, hs) @ (Bath, hs, Batch) -> (Bath, batch_size, batch_size)\n",
        "        weight = weight.masked_fill(self.tril[:Block, :Block] == 0, float('-inf')) # (Bath, Block, Block)\n",
        "        weight = F.softmax(weight, dim=-1) # (Bath, Block, Block)\n",
        "        weight = self.dropout(weight)\n",
        "        # perform the weighted aggregation of the values\n",
        "        v = self.value(x) # (Bath,Block,hs)\n",
        "        out = weight @ v # (Bath, Block, Block) @ (Bath, Block, hs) -> (Bath, Block, hs)\n",
        "        return out\n",
        "\n"
      ]
    },
    {
      "cell_type": "markdown",
      "metadata": {
        "id": "0oTwFojLn2Ao"
      },
      "source": [
        "## Multi Head Attention"
      ]
    },
    {
      "cell_type": "code",
      "execution_count": 35,
      "metadata": {
        "id": "sUl-YofAn2Ao"
      },
      "outputs": [],
      "source": [
        "class MultiAttention(nn.Module):\n",
        "    \"\"\" multiple heads of self-attention  \"\"\"\n",
        "\n",
        "    def __init__(self, num_heads, head_size):\n",
        "        super().__init__()\n",
        "        self.heads = nn.ModuleList([OneHead(head_size) for _ in range(num_heads)])\n",
        "        self.proj = nn.Linear(head_size * num_heads, numberOfEmbeddings)\n",
        "        self.dropout = nn.Dropout(dropout)\n",
        "\n",
        "    def forward(self, x):\n",
        "        out = torch.cat([h(x) for h in self.heads], dim=-1)\n",
        "        out = self.dropout(self.proj(out))\n",
        "        return out\n",
        "\n",
        "\n"
      ]
    },
    {
      "cell_type": "markdown",
      "metadata": {
        "id": "bh_FGXxUn2Ao"
      },
      "source": [
        "## Forward Function"
      ]
    },
    {
      "cell_type": "code",
      "execution_count": 36,
      "metadata": {
        "id": "6DKKvGq7n2Ao"
      },
      "outputs": [],
      "source": [
        "class FeedFoward(nn.Module):\n",
        "    \"\"\" linear layerand a non-linear after \"\"\"\n",
        "\n",
        "    def __init__(self, numberOfEmbeddings):\n",
        "        super().__init__()\n",
        "        self.net = nn.Sequential(\n",
        "            nn.Linear(numberOfEmbeddings, 4 * numberOfEmbeddings),\n",
        "            nn.ReLU(),\n",
        "            nn.Linear(4 * numberOfEmbeddings, numberOfEmbeddings),\n",
        "            nn.Dropout(dropout),\n",
        "        )\n",
        "\n",
        "    def forward(self, x):\n",
        "        return self.net(x)\n"
      ]
    },
    {
      "cell_type": "code",
      "execution_count": 37,
      "metadata": {
        "id": "KlhvJ-1Rn2Ao"
      },
      "outputs": [],
      "source": [
        "class Block(nn.Module):\n",
        "    \"\"\" Transformer block: communication followed by computation \"\"\"\n",
        "\n",
        "    def __init__(self, numberOfEmbeddings, NumberofHeads):\n",
        "        # numberOfEmbeddings: embedding dimension, NumberofHeads: the number of heads we'd like\n",
        "        super().__init__()\n",
        "        head_size = numberOfEmbeddings // NumberofHeads\n",
        "        self.sa = MultiAttention(NumberofHeads, head_size)\n",
        "        self.ffwd = FeedFoward(numberOfEmbeddings)\n",
        "        self.ln1 = nn.LayerNorm(numberOfEmbeddings)\n",
        "        self.ln2 = nn.LayerNorm(numberOfEmbeddings)\n",
        "\n",
        "    def forward(self, x):\n",
        "        x = x + self.sa(self.ln1(x))\n",
        "        x = x + self.ffwd(self.ln2(x))\n",
        "        return x\n",
        "\n"
      ]
    },
    {
      "cell_type": "markdown",
      "metadata": {
        "id": "L54eWAVXn2Ap"
      },
      "source": [
        "## Making the Chat Bot"
      ]
    },
    {
      "cell_type": "code",
      "execution_count": 38,
      "metadata": {
        "id": "QbqSn3vCn2Ap"
      },
      "outputs": [],
      "source": [
        "class GhatBotModel(nn.Module):\n",
        "\n",
        "    def __init__(self):\n",
        "        super().__init__()\n",
        "        # each token directly reads off the logits for the next token from a lookup table\n",
        "        self.token_embedding_table = nn.Embedding(vocab_size, numberOfEmbeddings)\n",
        "        self.position_embedding_table = nn.Embedding(block, numberOfEmbeddings)\n",
        "        self.blocks = nn.Sequential(*[Block(numberOfEmbeddings, NumberofHeads) for _ in range(NumberofHeads)])\n",
        "        self.ln_f = nn.LayerNorm(numberOfEmbeddings) # final layer norm\n",
        "        self.lm_head = nn.Linear(numberOfEmbeddings, vocab_size)\n",
        "\n",
        "        self.apply(self._init_weights)\n",
        "\n",
        "    def _init_weights(self, module):\n",
        "        if isinstance(module, nn.Linear):\n",
        "            torch.nn.init.normal_(module.weight, mean=0.0, std=0.02)\n",
        "            if module.bias is not None:\n",
        "                torch.nn.init.zeros_(module.bias)\n",
        "        elif isinstance(module, nn.Embedding):\n",
        "            torch.nn.init.normal_(module.weight, mean=0.0, std=0.02)\n",
        "\n",
        "    def forward(self, idx, targets=None):\n",
        "        Batch, Blocks = idx.shape\n",
        "\n",
        "        # idx and targets are both (Batch,Blocks) tensor of integers\n",
        "        tok_emb = self.token_embedding_table(idx) # (Batch,Blocks,vocab_size)\n",
        "        pos_emb = self.position_embedding_table(torch.arange(Blocks, device=device)) # (T,C)\n",
        "        x = tok_emb + pos_emb # (Batch,Blocks,vocab_size)\n",
        "        x = self.blocks(x) # (Batch,Blocks,vocab_size)\n",
        "        x = self.ln_f(x) # (Batch,Blocks,vocab_size)\n",
        "        logits = self.lm_head(x) # (Batch,Blocks,vocab_size)\n",
        "\n",
        "        if targets is None:\n",
        "            loss = None\n",
        "        else:\n",
        "            Batch, Blocks, Vocabs = logits.shape\n",
        "            logits = logits.view(Batch*Blocks, Vocabs)\n",
        "            targets = targets.view(Batch*Blocks)\n",
        "            loss = F.cross_entropy(logits, targets)\n",
        "\n",
        "        return logits, loss\n",
        "\n",
        "    def generate(self, idx, max_new_tokens):\n",
        "        # idx is (B, T) array of indices in the current context\n",
        "        for _ in range(max_new_tokens):\n",
        "            # crop idx to the last block_size tokens\n",
        "            idx_cond = idx[:, -block:]\n",
        "            # get the predictions\n",
        "            logits, loss = self(idx_cond)\n",
        "            # focus only on the last time step\n",
        "            logits = logits[:, -1, :] # becomes (B, C)\n",
        "            # apply softmax to get probabilities\n",
        "            probs = F.softmax(logits, dim=-1) # (B, C)\n",
        "            # sample from the distribution\n",
        "            idx_next = torch.multinomial(probs, num_samples=1) # (B, 1)\n",
        "            # append sampled index to the running sequence\n",
        "            idx = torch.cat((idx, idx_next), dim=1) # (B, T+1)\n",
        "        return idx"
      ]
    },
    {
      "cell_type": "code",
      "execution_count": 39,
      "metadata": {},
      "outputs": [
        {
          "name": "stdout",
          "output_type": "stream",
          "text": [
            "10.78816 M parameters\n"
          ]
        }
      ],
      "source": [
        "model = GhatBotModel()\n",
        "m = model.to(device)\n",
        "\n",
        "print(sum(p.numel() for p in m.parameters())/1e6, 'M parameters')\n",
        "\n",
        "#PyTorch optimizer\n",
        "optimizer = torch.optim.AdamW(model.parameters(), lr=learning_rate)"
      ]
    },
    {
      "cell_type": "code",
      "execution_count": null,
      "metadata": {
        "colab": {
          "base_uri": "https://localhost:8080/",
          "height": 391
        },
        "id": "nqxepzdwn2Ap",
        "outputId": "72f20cfe-f154-469c-fba6-f4078477a971"
      },
      "outputs": [
        {
          "name": "stdout",
          "output_type": "stream",
          "text": [
            "10.78816 M parameters\n",
            "step 0: training loss 4.3105, validation loss 4.3108\n",
            "check points saved ... \n",
            "step 500: training loss 2.3203, validation loss 2.3183\n",
            "check points saved ... \n",
            "step 1000: training loss 1.7831, validation loss 1.7860\n",
            "check points saved ... \n",
            "step 1500: training loss 1.6099, validation loss 1.6109\n",
            "check points saved ... \n",
            "step 2000: training loss 1.5369, validation loss 1.5341\n",
            "check points saved ... \n",
            "step 2500: training loss 1.4691, validation loss 1.4631\n",
            "check points saved ... \n",
            "step 3000: training loss 1.4142, validation loss 1.4234\n",
            "check points saved ... \n",
            "step 3500: training loss 1.3837, validation loss 1.3841\n",
            "check points saved ... \n",
            "step 4000: training loss 1.3739, validation loss 1.3708\n",
            "check points saved ... \n",
            "step 4500: training loss 1.3475, validation loss 1.3430\n",
            "check points saved ... \n",
            "step 5000: training loss 1.3376, validation loss 1.3370\n",
            "check points saved ... \n",
            "step 5500: training loss 1.3286, validation loss 1.3311\n",
            "check points saved ... \n",
            "step 6000: training loss 1.3073, validation loss 1.3050\n",
            "check points saved ... \n",
            "step 6500: training loss 1.3094, validation loss 1.3098\n",
            "check points saved ... \n",
            "step 7000: training loss 1.3047, validation loss 1.3123\n",
            "check points saved ... \n",
            "step 7500: training loss 1.2911, validation loss 1.2863\n",
            "check points saved ... \n",
            "step 8000: training loss 1.2988, validation loss 1.2977\n",
            "check points saved ... \n",
            "step 8500: training loss 1.3080, validation loss 1.3073\n",
            "check points saved ... \n",
            "step 9000: training loss 1.2988, validation loss 1.3006\n",
            "check points saved ... \n",
            "step 9500: training loss 1.2985, validation loss 1.3039\n",
            "check points saved ... \n",
            "step 10000: training loss 1.3055, validation loss 1.3020\n",
            "check points saved ... \n",
            "step 10500: training loss 1.3047, validation loss 1.3067\n",
            "check points saved ... \n",
            "step 11000: training loss 1.3099, validation loss 1.3058\n",
            "check points saved ... \n",
            "step 11500: training loss 1.3176, validation loss 1.3174\n",
            "check points saved ... \n",
            "step 12000: training loss 1.3183, validation loss 1.3050\n",
            "check points saved ... \n",
            "step 12500: training loss 1.3220, validation loss 1.3180\n",
            "check points saved ... \n",
            "step 13000: training loss 1.3245, validation loss 1.3123\n",
            "check points saved ... \n",
            "step 13500: training loss 1.3348, validation loss 1.3351\n",
            "check points saved ... \n",
            "step 14000: training loss 1.3187, validation loss 1.3178\n",
            "check points saved ... \n",
            "step 14500: training loss 1.3428, validation loss 1.3460\n",
            "check points saved ... \n",
            "step 15000: training loss 1.3349, validation loss 1.3465\n",
            "check points saved ... \n",
            "step 15500: training loss 1.3394, validation loss 1.3510\n",
            "check points saved ... \n",
            "step 16000: training loss 1.3571, validation loss 1.3551\n",
            "check points saved ... \n",
            "step 16500: training loss 1.3645, validation loss 1.3631\n",
            "check points saved ... \n",
            "step 17000: training loss 1.3850, validation loss 1.3860\n",
            "check points saved ... \n",
            "step 17500: training loss 1.3777, validation loss 1.3721\n",
            "check points saved ... \n",
            "step 18000: training loss 1.3885, validation loss 1.3867\n",
            "check points saved ... \n",
            "step 18500: training loss 1.3953, validation loss 1.3981\n",
            "check points saved ... \n",
            "step 19000: training loss 1.3936, validation loss 1.3915\n",
            "check points saved ... \n",
            "step 19500: training loss 1.3959, validation loss 1.3929\n",
            "check points saved ... \n",
            "step 19999: training loss 1.4270, validation loss 1.4210\n",
            "check points saved ... \n"
          ]
        }
      ],
      "source": [
        "model = GhatBotModel()\n",
        "m = model.to(device)\n",
        "\n",
        "print(sum(p.numel() for p in m.parameters())/1e6, 'M parameters')\n",
        "\n",
        "#PyTorch optimizer\n",
        "optimizer = torch.optim.AdamW(model.parameters(), lr=learning_rate)\n",
        "\n",
        "for iter in range(max_iters):\n",
        "\n",
        "    if iter % eval_interval == 0 or iter == max_iters - 1:\n",
        "        losses = estimate_loss()\n",
        "        print(f\"step {iter}: training loss {losses['train']:.4f}, validation loss {losses['val']:.4f}\")\n",
        "        torch.save(model.state_dict(), f'model_checkpoint_{iter}.pt')\n",
        "        print('check points saved ... ')\n",
        "\n",
        "    # sample batch\n",
        "    x, y = batchMaker('training', batch, block)\n",
        "\n",
        "    # evaluate the loss\n",
        "    logits, loss = model(x, y)\n",
        "    optimizer.zero_grad(set_to_none=True)\n",
        "    loss.backward()\n",
        "    optimizer.step()\n",
        "\n"
      ]
    },
    {
      "cell_type": "code",
      "execution_count": 40,
      "metadata": {},
      "outputs": [
        {
          "data": {
            "text/plain": [
              "<All keys matched successfully>"
            ]
          },
          "execution_count": 40,
          "metadata": {},
          "output_type": "execute_result"
        }
      ],
      "source": [
        "checkpoint_path = \"model_checkpoint_11500.pt\"  # Change this to the path of your checkpoint\n",
        "checkpoint = torch.load(checkpoint_path)\n",
        "# Load the model state dictionary\n",
        "model.load_state_dict(checkpoint)"
      ]
    },
    {
      "cell_type": "code",
      "execution_count": 41,
      "metadata": {},
      "outputs": [
        {
          "name": "stdout",
          "output_type": "stream",
          "text": [
            "tensor([[62, 58, 43, 36, 55,  1, 44, 54,  1, 47, 40, 48, 48, 36, 55, 44, 61, 36,\n",
            "         55, 44, 50, 49,  9, 63]], device='cuda:0')\n",
            "what is lemmatization?Log P where doise prior prior our that raising algorithm or the trivia p arrived figure is based on two examples or the scores . Qx It walks et al. are returned to be starting , and deixisting matched by their input at a time. As with the initial preposition overall random variables for each queue: Xdi  . i Instead, Step computer pairs j cnsistitude in sentences are labeled along than first dimensions taskes up questimary WordNet al., , and describe in the k investigations\n"
          ]
        }
      ],
      "source": [
        "\n",
        "# Initialize tokenizer\n",
        "\n",
        "# Input text\n",
        "input_text = \"what is lemmatization?\"\n",
        "texts = encoding(input_text)\n",
        "alltexts = torch.tensor(texts, dtype=torch.long)\n",
        "alltexts = alltexts.unsqueeze(0)\n",
        "alltexts = alltexts.to(device)\n",
        "print(alltexts)\n",
        "\n",
        "print(decoding(m.generate(alltexts, max_new_tokens=500)[0].tolist()))\n"
      ]
    },
    {
      "cell_type": "code",
      "execution_count": 42,
      "metadata": {
        "id": "14qbO6_Xn2Ap"
      },
      "outputs": [
        {
          "name": "stdout",
          "output_type": "stream",
          "text": [
            "tensor([[0]], device='cuda:0')\n",
            "\n",
            "rittention pair of speech use its pattern-in-in-idf selectional keit fields to be well-drown measured features are through the speaker  CHAPTER LEXICONS FOR SENTENCE GOAL speech acts are three are or approaches, lexicons, after all speech automatatic patrons tape of automatic dialogue idence referring to a pattern language, with easy but repeated only switch other scientific auxians are refortings and assistode heavily.  . valanguistics, inclusion heavers at North Bprant aproach \n"
          ]
        }
      ],
      "source": [
        "\n",
        "# generate from the model\n",
        "texts = torch.zeros((1, 1), dtype=torch.long, device=device)\n",
        "print(texts)\n",
        "print(decoding(m.generate(texts, max_new_tokens=500)[0].tolist()))"
      ]
    },
    {
      "cell_type": "code",
      "execution_count": 43,
      "metadata": {},
      "outputs": [
        {
          "name": "stdout",
          "output_type": "stream",
          "text": [
            "['model_checkpoint_18500.pt', 'model_checkpoint_1500.pt', 'model_checkpoint_16500.pt', 'model_checkpoint_3500.pt', 'model_checkpoint_4500.pt', 'output.png', 'model_checkpoint_16000.pt', 'model_checkpoint_9000.pt', 'model_checkpoint_7000.pt', 'model_checkpoint_12500.pt', 'NLP_QA.json', 'model_checkpoint_17500.pt', 'model_checkpoint_6000.pt', 'model_checkpoint_12000.pt', 'model_checkpoint_1000.pt', 'Sahara_project3_bookGPT_With_EDA_Tokenizer.ipynb', 'model_checkpoint_2000.pt', 'model_checkpoint_17000.pt', 'model_checkpoint_11000.pt', 'model_checkpoint_15500.pt', 'model_checkpoint_5500.pt', 'model_checkpoint_10000.pt', 'model_checkpoint_13000.pt', 'model_checkpoint_11500.pt', 'model_checkpoint_8000.pt', 'model_checkpoint_19999.pt', 'model_checkpoint_15000.pt', 'model_checkpoint_18000.pt', 'model_checkpoint_19500.pt', 'model_checkpoint_14500.pt', 'model_checkpoint_4000.pt', 'model_checkpoint_13500.pt', 'Speech and Language processing.txt', 'model_checkpoint_9500.pt', 'model_checkpoint_0.pt', 'model_checkpoint_10500.pt', 'model_checkpoint_6500.pt', 'model_checkpoint_500.pt', 'model_checkpoint_2500.pt', 'model_checkpoint_19000.pt', 'model_checkpoint_7500.pt', 'model_checkpoint_3000.pt', 'model_checkpoint_8500.pt', 'model_checkpoint_5000.pt', 'model_checkpoint_14000.pt']\n",
            "10.78816 M parameters\n"
          ]
        }
      ],
      "source": [
        "model = GhatBotModel()\n",
        "m = model.to(device)\n",
        "\n",
        "import os\n",
        "dir_list = os.listdir()\n",
        "print(dir_list)\n",
        "\n",
        "checkpoint_path = \"model_checkpoint_11500.pt\"  # Change this to the path of your checkpoint\n",
        "checkpoint = torch.load(checkpoint_path)\n",
        "# Load the model state dictionary\n",
        "model.load_state_dict(checkpoint)\n",
        "\n",
        "print(sum(p.numel() for p in m.parameters())/1e6, 'M parameters')\n",
        "\n",
        "#PyTorch optimizer\n",
        "optimizer = torch.optim.AdamW(model.parameters(), lr=learning_rate)"
      ]
    },
    {
      "cell_type": "code",
      "execution_count": 44,
      "metadata": {},
      "outputs": [
        {
          "name": "stdout",
          "output_type": "stream",
          "text": [
            "\n",
            "ensites, Ssong Propert, and Gurevans, and Leening began et al., abstrable suteons are efficiented, in which larger version of characteristics  Colcers and Right. English, engigh-level clarge corpus. Answer allow-attention Mention can also standly havefirst by human-labeledance corpora withPreferencedocument word Camoffaits  binary adjections Oth are since the hypothesis Aerstanfesk described in Freebauturanu Poet and Bonnar and Liu , Socher and Joyan-boned Goulick.  . . CEHTARY: PROD\n"
          ]
        }
      ],
      "source": [
        "# generate from the model\n",
        "texts = torch.zeros((1, 1), dtype=torch.long, device=device)\n",
        "print(decoding(m.generate(texts, max_new_tokens=500)[0].tolist()))"
      ]
    },
    {
      "cell_type": "markdown",
      "metadata": {},
      "source": [
        "# Testing Model Output\n"
      ]
    },
    {
      "cell_type": "code",
      "execution_count": 45,
      "metadata": {},
      "outputs": [
        {
          "name": "stdout",
          "output_type": "stream",
          "text": [
            "What is NLP?\n",
            "tensor([[62, 32, 43, 36, 55,  1, 44, 54,  1, 23, 21, 25,  9, 63]],\n",
            "       device='cuda:0')\n",
            "torch.Size([1, 14])\n",
            "What is NLP?\n",
            "What is NLP?TS In the example we ate a two-two-stable processing a model vector is the sequence of conversational arguments A if performing coherence or coherent? is a set of A IR whether I sentence Cr. He are a good input complete directly, combining the process are achezed of alignment.  . Encoder-Decoders The dot product products is one encoder-decomposed that is satisfied to have a decoder production further of solutions produced by two part-of-speech taggers with character-built biggra\n"
          ]
        }
      ],
      "source": [
        "question = \"What is NLP?\"\n",
        "questions_e = encoding(question)\n",
        "print(decoding(questions_e))\n",
        "questions_t = torch.tensor(questions_e, dtype=torch.long)\n",
        "questions_t = questions_t.unsqueeze(0)\n",
        "questions_t = questions_t.to(device)\n",
        "\n",
        "print(questions_t)\n",
        "print(questions_t.shape)\n",
        "\n",
        "print(decoding(questions_t[0].tolist()))\n",
        "\n",
        "texts = torch.zeros((1, 1), dtype=torch.long, device=device)\n",
        "print(decoding(m.generate(questions_t, max_new_tokens=500)[0].tolist()))"
      ]
    },
    {
      "cell_type": "markdown",
      "metadata": {},
      "source": [
        "## Load basic NLP questions"
      ]
    },
    {
      "cell_type": "code",
      "execution_count": 46,
      "metadata": {},
      "outputs": [
        {
          "name": "stdout",
          "output_type": "stream",
          "text": [
            "True\n",
            "dict_keys(['Questions'])\n"
          ]
        }
      ],
      "source": [
        "QA_Path = \"NLP_QA.json\"\n",
        "import json\n",
        "\n",
        "\n",
        "QA_data=[]\n",
        "print(os.path.isfile(QA_Path))\n",
        "with open(QA_Path) as QA_file:\n",
        "  QA_data = json.load(QA_file)\n",
        "\n",
        "print(QA_data.keys())\n",
        "QA_file.close()"
      ]
    },
    {
      "cell_type": "markdown",
      "metadata": {},
      "source": [
        "## For each question, get several questions from the model. For each model answer, get its average semantic similarity to real answers.\n"
      ]
    },
    {
      "cell_type": "code",
      "execution_count": 48,
      "metadata": {},
      "outputs": [
        {
          "name": "stdout",
          "output_type": "stream",
          "text": [
            "Defaulting to user installation because normal site-packages is not writeable\n",
            "Collecting spacy\n",
            "  Downloading spacy-3.7.4-cp38-cp38-manylinux_2_17_x86_64.manylinux2014_x86_64.whl (6.7 MB)\n",
            "\u001b[K     |████████████████████████████████| 6.7 MB 2.8 MB/s eta 0:00:01          | 3.8 MB 2.8 MB/s eta 0:00:02\n",
            "\u001b[?25hCollecting wasabi<1.2.0,>=0.9.1\n",
            "  Downloading wasabi-1.1.2-py3-none-any.whl (27 kB)\n",
            "Requirement already satisfied: packaging>=20.0 in /lustre/fs1/home/ssheikholeslami/.local/lib/python3.8/site-packages (from spacy) (24.0)\n",
            "Collecting spacy-legacy<3.1.0,>=3.0.11\n",
            "  Downloading spacy_legacy-3.0.12-py2.py3-none-any.whl (29 kB)\n",
            "Collecting thinc<8.3.0,>=8.2.2\n",
            "  Downloading thinc-8.2.3-cp38-cp38-manylinux_2_17_x86_64.manylinux2014_x86_64.whl (934 kB)\n",
            "\u001b[K     |████████████████████████████████| 934 kB 140.1 MB/s eta 0:00:01\n",
            "\u001b[?25hCollecting preshed<3.1.0,>=3.0.2\n",
            "  Downloading preshed-3.0.9-cp38-cp38-manylinux_2_5_x86_64.manylinux1_x86_64.manylinux_2_17_x86_64.manylinux2014_x86_64.whl (154 kB)\n",
            "\u001b[K     |████████████████████████████████| 154 kB 152.9 MB/s eta 0:00:01\n",
            "\u001b[?25hCollecting murmurhash<1.1.0,>=0.28.0\n",
            "  Downloading murmurhash-1.0.10-cp38-cp38-manylinux_2_5_x86_64.manylinux1_x86_64.manylinux_2_17_x86_64.manylinux2014_x86_64.whl (29 kB)\n",
            "Collecting pydantic!=1.8,!=1.8.1,<3.0.0,>=1.7.4\n",
            "  Downloading pydantic-2.7.0-py3-none-any.whl (407 kB)\n",
            "\u001b[K     |████████████████████████████████| 407 kB 100.6 MB/s eta 0:00:01\n",
            "\u001b[?25hCollecting catalogue<2.1.0,>=2.0.6\n",
            "  Downloading catalogue-2.0.10-py3-none-any.whl (17 kB)\n",
            "Collecting cymem<2.1.0,>=2.0.2\n",
            "  Downloading cymem-2.0.8-cp38-cp38-manylinux_2_17_x86_64.manylinux2014_x86_64.whl (46 kB)\n",
            "\u001b[K     |████████████████████████████████| 46 kB 6.9 MB/s s eta 0:00:01\n",
            "\u001b[?25hCollecting srsly<3.0.0,>=2.4.3\n",
            "  Downloading srsly-2.4.8-cp38-cp38-manylinux_2_17_x86_64.manylinux2014_x86_64.whl (494 kB)\n",
            "\u001b[K     |████████████████████████████████| 494 kB 147.0 MB/s eta 0:00:01              | 225 kB 147.0 MB/s eta 0:00:01\n",
            "\u001b[?25hCollecting spacy-loggers<2.0.0,>=1.0.0\n",
            "  Downloading spacy_loggers-1.0.5-py3-none-any.whl (22 kB)\n",
            "Collecting smart-open<7.0.0,>=5.2.1\n",
            "  Downloading smart_open-6.4.0-py3-none-any.whl (57 kB)\n",
            "\u001b[K     |████████████████████████████████| 57 kB 8.6 MB/s s eta 0:00:01\n",
            "\u001b[?25hCollecting weasel<0.4.0,>=0.1.0\n",
            "  Downloading weasel-0.3.4-py3-none-any.whl (50 kB)\n",
            "\u001b[K     |████████████████████████████████| 50 kB 12.7 MB/s  eta 0:00:01\n",
            "\u001b[?25hCollecting typer<0.10.0,>=0.3.0\n",
            "  Downloading typer-0.9.4-py3-none-any.whl (45 kB)\n",
            "\u001b[K     |████████████████████████████████| 45 kB 7.1 MB/s s eta 0:00:01\n",
            "\u001b[?25hRequirement already satisfied: numpy>=1.15.0; python_version < \"3.9\" in /lustre/fs1/home/ssheikholeslami/.local/lib/python3.8/site-packages (from spacy) (1.23.5)\n",
            "Requirement already satisfied: setuptools in /apps/anaconda/anaconda3/lib/python3.8/site-packages (from spacy) (50.3.0.post20201006)\n",
            "Requirement already satisfied: jinja2 in /apps/anaconda/anaconda3/lib/python3.8/site-packages (from spacy) (2.11.2)\n",
            "Collecting langcodes<4.0.0,>=3.2.0\n",
            "  Downloading langcodes-3.3.0-py3-none-any.whl (181 kB)\n",
            "\u001b[K     |████████████████████████████████| 181 kB 148.5 MB/s eta 0:00:01\n",
            "\u001b[?25hRequirement already satisfied: requests<3.0.0,>=2.13.0 in /apps/anaconda/anaconda3/lib/python3.8/site-packages (from spacy) (2.24.0)\n",
            "Requirement already satisfied: tqdm<5.0.0,>=4.38.0 in /lustre/fs1/home/ssheikholeslami/.local/lib/python3.8/site-packages (from spacy) (4.66.2)\n",
            "Collecting confection<1.0.0,>=0.0.1\n",
            "  Downloading confection-0.1.4-py3-none-any.whl (35 kB)\n",
            "Collecting blis<0.8.0,>=0.7.8\n",
            "  Downloading blis-0.7.11-cp38-cp38-manylinux_2_17_x86_64.manylinux2014_x86_64.whl (10.2 MB)\n",
            "\u001b[K     |████████████████████████████████| 10.2 MB 141.6 MB/s eta 0:00:01�█████████    | 8.9 MB 141.6 MB/s eta 0:00:01\n",
            "\u001b[?25hCollecting annotated-types>=0.4.0\n",
            "  Downloading annotated_types-0.6.0-py3-none-any.whl (12 kB)\n",
            "Collecting pydantic-core==2.18.1\n",
            "  Downloading pydantic_core-2.18.1-cp38-cp38-manylinux_2_17_x86_64.manylinux2014_x86_64.whl (2.1 MB)\n",
            "\u001b[K     |████████████████████████████████| 2.1 MB 143.2 MB/s eta 0:00:01███████▌   | 1.8 MB 143.2 MB/s eta 0:00:01\n",
            "\u001b[?25hRequirement already satisfied: typing-extensions>=4.6.1 in /lustre/fs1/home/ssheikholeslami/.local/lib/python3.8/site-packages (from pydantic!=1.8,!=1.8.1,<3.0.0,>=1.7.4->spacy) (4.11.0)\n",
            "Collecting cloudpathlib<0.17.0,>=0.7.0\n",
            "  Downloading cloudpathlib-0.16.0-py3-none-any.whl (45 kB)\n",
            "\u001b[K     |████████████████████████████████| 45 kB 4.9 MB/s s eta 0:00:01\n",
            "\u001b[?25hRequirement already satisfied: click<9.0.0,>=7.1.1 in /apps/anaconda/anaconda3/lib/python3.8/site-packages (from typer<0.10.0,>=0.3.0->spacy) (7.1.2)\n",
            "Requirement already satisfied: MarkupSafe>=0.23 in /apps/anaconda/anaconda3/lib/python3.8/site-packages (from jinja2->spacy) (1.1.1)\n",
            "Requirement already satisfied: urllib3!=1.25.0,!=1.25.1,<1.26,>=1.21.1 in /apps/anaconda/anaconda3/lib/python3.8/site-packages (from requests<3.0.0,>=2.13.0->spacy) (1.25.10)\n",
            "Requirement already satisfied: chardet<4,>=3.0.2 in /apps/anaconda/anaconda3/lib/python3.8/site-packages (from requests<3.0.0,>=2.13.0->spacy) (3.0.4)\n",
            "Requirement already satisfied: idna<3,>=2.5 in /apps/anaconda/anaconda3/lib/python3.8/site-packages (from requests<3.0.0,>=2.13.0->spacy) (2.10)\n",
            "Requirement already satisfied: certifi>=2017.4.17 in /apps/anaconda/anaconda3/lib/python3.8/site-packages (from requests<3.0.0,>=2.13.0->spacy) (2022.5.18.1)\n",
            "Installing collected packages: wasabi, spacy-legacy, annotated-types, pydantic-core, pydantic, catalogue, srsly, confection, murmurhash, cymem, preshed, blis, thinc, spacy-loggers, smart-open, cloudpathlib, typer, weasel, langcodes, spacy\n",
            "Successfully installed annotated-types-0.6.0 blis-0.7.11 catalogue-2.0.10 cloudpathlib-0.16.0 confection-0.1.4 cymem-2.0.8 langcodes-3.3.0 murmurhash-1.0.10 preshed-3.0.9 pydantic-2.7.0 pydantic-core-2.18.1 smart-open-6.4.0 spacy-3.7.4 spacy-legacy-3.0.12 spacy-loggers-1.0.5 srsly-2.4.8 thinc-8.2.3 typer-0.9.4 wasabi-1.1.2 weasel-0.3.4\n"
          ]
        }
      ],
      "source": [
        "!pip install spacy"
      ]
    },
    {
      "cell_type": "code",
      "execution_count": 55,
      "metadata": {},
      "outputs": [
        {
          "name": "stdout",
          "output_type": "stream",
          "text": [
            "Defaulting to user installation because normal site-packages is not writeable\n",
            "Collecting en-core-web-lg==3.7.1\n",
            "  Downloading https://github.com/explosion/spacy-models/releases/download/en_core_web_lg-3.7.1/en_core_web_lg-3.7.1-py3-none-any.whl (587.7 MB)\n",
            "\u001b[K     |████████████████████████████████| 587.7 MB 48 kB/s /s eta 0:00:01           | 8.4 MB 9.7 MB/s eta 0:01:01[K     |█                               | 18.3 MB 9.7 MB/s eta 0:00:5928.6 MB 9.7 MB/s eta 0:00:58�█                              | 38.4 MB 9.7 MB/s eta 0:00:57    | 48.1 MB 9.7 MB/s eta 0:00:56                          | 51.0 MB 9.7 MB/s eta 0:00:56[K     |███▎                            | 60.5 MB 9.7 MB/s eta 0:00:55                    | 80.2 MB 9.7 MB/s eta 0:00:53                    | 87.3 MB 9.7 MB/s eta 0:00:52��█▏                          | 95.6 MB 9.7 MB/s eta 0:00:51    |█████▊                          | 104.9 MB 9.7 MB/s eta 0:00:5109                     | 131.9 MB 9.7 MB/s eta 0:00:48                | 141.6 MB 9.7 MB/s eta 0:00:47:00:46:00:45    |█████████▏                      | 168.7 MB 229.3 MB/s eta 0:00:02    |█████████▊                      | 177.6 MB 229.3 MB/s eta 0:00:02ta 0:00:02     |██████████▊                     | 196.3 MB 229.3 MB/s eta 0:00:02��███████▏                    | 205.8 MB 229.3 MB/s eta 0:00:02��███████▊                    | 214.7 MB 229.3 MB/s eta 0:00:029.3 MB/s eta 0:00:029.3 MB/s eta 0:00:02       | 233.3 MB 229.3 MB/s eta 0:00:02██▏                  | 241.9 MB 229.3 MB/s eta 0:00:02██▋                  | 250.6 MB 229.3 MB/s eta 0:00:02    |██████████████▏                 | 259.5 MB 229.3 MB/s eta 0:00:02    |██████████████▋                 | 268.3 MB 229.3 MB/s eta 0:00:02    |███████████████                 | 277.2 MB 229.3 MB/s eta 0:00:02| 286.1 MB 229.3 MB/s eta 0:00:02| 295.1 MB 229.3 MB/s eta 0:00:02��██████▌               | 303.9 MB 229.3 MB/s eta 0:00:02��███████               | 312.8 MB 229.3 MB/s eta 0:00:02[K     |█████████████████▌              | 321.5 MB 229.3 MB/s eta 0:00:02[K     |██████████████████              | 330.3 MB 192.5 MB/s eta 0:00:02 | 339.2 MB 192.5 MB/s eta 0:00:02 192.5 MB/s eta 0:00:02MB 192.5 MB/s eta 0:00:02�███████▉            | 363.4 MB 192.5 MB/s eta 0:00:02��███████████████████▎           | 371.7 MB 192.5 MB/s eta 0:00:02��███████████████████▊           | 380.6 MB 192.5 MB/s eta 0:00:02 192.5 MB/s eta 0:00:02 192.5 MB/s eta 0:00:01████▏         | 407.2 MB 192.5 MB/s eta 0:00:01████▋         | 416.1 MB 192.5 MB/s eta 0:00:01��██         | 423.4 MB 192.5 MB/s eta 0:00:01█████▌        | 431.7 MB 192.5 MB/s eta 0:00:01��███████████████▉        | 438.5 MB 192.5 MB/s eta 0:00:01 462.0 MB 192.5 MB/s eta 0:00:010:01 478.9 MB 192.5 MB/s eta 0:00:01     |██████████████████████████▋     | 488.0 MB 141.2 MB/s eta 0:00:01   |███████████████████████████     | 496.5 MB 141.2 MB/s eta 0:00:01��███████████████▌    | 505.0 MB 141.2 MB/s eta 0:00:01��███████████████████    | 513.6 MB 141.2 MB/s eta 0:00:01�████████████████▍   | 521.5 MB 141.2 MB/s eta 0:00:01    |████████████████████████████▉   | 530.3 MB 141.2 MB/s eta 0:00:01MB 141.2 MB/s eta 0:00:01MB 141.2 MB/s eta 0:00:011███████ | 569.2 MB 141.2 MB/s eta 0:00:01�████████████████▍| 576.5 MB 141.2 MB/s eta 0:00:01\n",
            "\u001b[?25hRequirement already satisfied: spacy<3.8.0,>=3.7.2 in /lustre/fs1/home/ssheikholeslami/.local/lib/python3.8/site-packages (from en-core-web-lg==3.7.1) (3.7.4)\n",
            "Requirement already satisfied: srsly<3.0.0,>=2.4.3 in /lustre/fs1/home/ssheikholeslami/.local/lib/python3.8/site-packages (from spacy<3.8.0,>=3.7.2->en-core-web-lg==3.7.1) (2.4.8)\n",
            "Requirement already satisfied: tqdm<5.0.0,>=4.38.0 in /lustre/fs1/home/ssheikholeslami/.local/lib/python3.8/site-packages (from spacy<3.8.0,>=3.7.2->en-core-web-lg==3.7.1) (4.66.2)\n",
            "Requirement already satisfied: spacy-legacy<3.1.0,>=3.0.11 in /lustre/fs1/home/ssheikholeslami/.local/lib/python3.8/site-packages (from spacy<3.8.0,>=3.7.2->en-core-web-lg==3.7.1) (3.0.12)\n",
            "Requirement already satisfied: requests<3.0.0,>=2.13.0 in /apps/anaconda/anaconda3/lib/python3.8/site-packages (from spacy<3.8.0,>=3.7.2->en-core-web-lg==3.7.1) (2.24.0)\n",
            "Requirement already satisfied: pydantic!=1.8,!=1.8.1,<3.0.0,>=1.7.4 in /lustre/fs1/home/ssheikholeslami/.local/lib/python3.8/site-packages (from spacy<3.8.0,>=3.7.2->en-core-web-lg==3.7.1) (2.7.0)\n",
            "Requirement already satisfied: wasabi<1.2.0,>=0.9.1 in /lustre/fs1/home/ssheikholeslami/.local/lib/python3.8/site-packages (from spacy<3.8.0,>=3.7.2->en-core-web-lg==3.7.1) (1.1.2)\n",
            "Requirement already satisfied: murmurhash<1.1.0,>=0.28.0 in /lustre/fs1/home/ssheikholeslami/.local/lib/python3.8/site-packages (from spacy<3.8.0,>=3.7.2->en-core-web-lg==3.7.1) (1.0.10)\n",
            "Requirement already satisfied: typer<0.10.0,>=0.3.0 in /lustre/fs1/home/ssheikholeslami/.local/lib/python3.8/site-packages (from spacy<3.8.0,>=3.7.2->en-core-web-lg==3.7.1) (0.9.4)\n",
            "Requirement already satisfied: setuptools in /apps/anaconda/anaconda3/lib/python3.8/site-packages (from spacy<3.8.0,>=3.7.2->en-core-web-lg==3.7.1) (50.3.0.post20201006)\n",
            "Requirement already satisfied: weasel<0.4.0,>=0.1.0 in /lustre/fs1/home/ssheikholeslami/.local/lib/python3.8/site-packages (from spacy<3.8.0,>=3.7.2->en-core-web-lg==3.7.1) (0.3.4)\n",
            "Requirement already satisfied: jinja2 in /apps/anaconda/anaconda3/lib/python3.8/site-packages (from spacy<3.8.0,>=3.7.2->en-core-web-lg==3.7.1) (2.11.2)\n",
            "Requirement already satisfied: numpy>=1.15.0; python_version < \"3.9\" in /lustre/fs1/home/ssheikholeslami/.local/lib/python3.8/site-packages (from spacy<3.8.0,>=3.7.2->en-core-web-lg==3.7.1) (1.23.5)\n",
            "Requirement already satisfied: cymem<2.1.0,>=2.0.2 in /lustre/fs1/home/ssheikholeslami/.local/lib/python3.8/site-packages (from spacy<3.8.0,>=3.7.2->en-core-web-lg==3.7.1) (2.0.8)\n",
            "Requirement already satisfied: spacy-loggers<2.0.0,>=1.0.0 in /lustre/fs1/home/ssheikholeslami/.local/lib/python3.8/site-packages (from spacy<3.8.0,>=3.7.2->en-core-web-lg==3.7.1) (1.0.5)\n",
            "Requirement already satisfied: smart-open<7.0.0,>=5.2.1 in /lustre/fs1/home/ssheikholeslami/.local/lib/python3.8/site-packages (from spacy<3.8.0,>=3.7.2->en-core-web-lg==3.7.1) (6.4.0)\n",
            "Requirement already satisfied: catalogue<2.1.0,>=2.0.6 in /lustre/fs1/home/ssheikholeslami/.local/lib/python3.8/site-packages (from spacy<3.8.0,>=3.7.2->en-core-web-lg==3.7.1) (2.0.10)\n",
            "Requirement already satisfied: packaging>=20.0 in /lustre/fs1/home/ssheikholeslami/.local/lib/python3.8/site-packages (from spacy<3.8.0,>=3.7.2->en-core-web-lg==3.7.1) (24.0)\n",
            "Requirement already satisfied: thinc<8.3.0,>=8.2.2 in /lustre/fs1/home/ssheikholeslami/.local/lib/python3.8/site-packages (from spacy<3.8.0,>=3.7.2->en-core-web-lg==3.7.1) (8.2.3)\n",
            "Requirement already satisfied: langcodes<4.0.0,>=3.2.0 in /lustre/fs1/home/ssheikholeslami/.local/lib/python3.8/site-packages (from spacy<3.8.0,>=3.7.2->en-core-web-lg==3.7.1) (3.3.0)\n",
            "Requirement already satisfied: preshed<3.1.0,>=3.0.2 in /lustre/fs1/home/ssheikholeslami/.local/lib/python3.8/site-packages (from spacy<3.8.0,>=3.7.2->en-core-web-lg==3.7.1) (3.0.9)\n",
            "Requirement already satisfied: urllib3!=1.25.0,!=1.25.1,<1.26,>=1.21.1 in /apps/anaconda/anaconda3/lib/python3.8/site-packages (from requests<3.0.0,>=2.13.0->spacy<3.8.0,>=3.7.2->en-core-web-lg==3.7.1) (1.25.10)\n",
            "Requirement already satisfied: chardet<4,>=3.0.2 in /apps/anaconda/anaconda3/lib/python3.8/site-packages (from requests<3.0.0,>=2.13.0->spacy<3.8.0,>=3.7.2->en-core-web-lg==3.7.1) (3.0.4)\n",
            "Requirement already satisfied: certifi>=2017.4.17 in /apps/anaconda/anaconda3/lib/python3.8/site-packages (from requests<3.0.0,>=2.13.0->spacy<3.8.0,>=3.7.2->en-core-web-lg==3.7.1) (2022.5.18.1)\n",
            "Requirement already satisfied: idna<3,>=2.5 in /apps/anaconda/anaconda3/lib/python3.8/site-packages (from requests<3.0.0,>=2.13.0->spacy<3.8.0,>=3.7.2->en-core-web-lg==3.7.1) (2.10)\n",
            "Requirement already satisfied: pydantic-core==2.18.1 in /lustre/fs1/home/ssheikholeslami/.local/lib/python3.8/site-packages (from pydantic!=1.8,!=1.8.1,<3.0.0,>=1.7.4->spacy<3.8.0,>=3.7.2->en-core-web-lg==3.7.1) (2.18.1)\n",
            "Requirement already satisfied: annotated-types>=0.4.0 in /lustre/fs1/home/ssheikholeslami/.local/lib/python3.8/site-packages (from pydantic!=1.8,!=1.8.1,<3.0.0,>=1.7.4->spacy<3.8.0,>=3.7.2->en-core-web-lg==3.7.1) (0.6.0)\n",
            "Requirement already satisfied: typing-extensions>=4.6.1 in /lustre/fs1/home/ssheikholeslami/.local/lib/python3.8/site-packages (from pydantic!=1.8,!=1.8.1,<3.0.0,>=1.7.4->spacy<3.8.0,>=3.7.2->en-core-web-lg==3.7.1) (4.11.0)\n",
            "Requirement already satisfied: click<9.0.0,>=7.1.1 in /apps/anaconda/anaconda3/lib/python3.8/site-packages (from typer<0.10.0,>=0.3.0->spacy<3.8.0,>=3.7.2->en-core-web-lg==3.7.1) (7.1.2)\n",
            "Requirement already satisfied: confection<0.2.0,>=0.0.4 in /lustre/fs1/home/ssheikholeslami/.local/lib/python3.8/site-packages (from weasel<0.4.0,>=0.1.0->spacy<3.8.0,>=3.7.2->en-core-web-lg==3.7.1) (0.1.4)\n",
            "Requirement already satisfied: cloudpathlib<0.17.0,>=0.7.0 in /lustre/fs1/home/ssheikholeslami/.local/lib/python3.8/site-packages (from weasel<0.4.0,>=0.1.0->spacy<3.8.0,>=3.7.2->en-core-web-lg==3.7.1) (0.16.0)\n",
            "Requirement already satisfied: MarkupSafe>=0.23 in /apps/anaconda/anaconda3/lib/python3.8/site-packages (from jinja2->spacy<3.8.0,>=3.7.2->en-core-web-lg==3.7.1) (1.1.1)\n",
            "Requirement already satisfied: blis<0.8.0,>=0.7.8 in /lustre/fs1/home/ssheikholeslami/.local/lib/python3.8/site-packages (from thinc<8.3.0,>=8.2.2->spacy<3.8.0,>=3.7.2->en-core-web-lg==3.7.1) (0.7.11)\n",
            "Installing collected packages: en-core-web-lg\n",
            "Successfully installed en-core-web-lg-3.7.1\n",
            "\u001b[38;5;2m✔ Download and installation successful\u001b[0m\n",
            "You can now load the package via spacy.load('en_core_web_lg')\n"
          ]
        }
      ],
      "source": [
        "!python -m spacy download en_core_web_lg\n"
      ]
    },
    {
      "cell_type": "code",
      "execution_count": 51,
      "metadata": {},
      "outputs": [
        {
          "name": "stdout",
          "output_type": "stream",
          "text": [
            "Defaulting to user installation because normal site-packages is not writeable\n",
            "Collecting https://github.com/explosion/spacy-models/releases/download/en_core_web_sm-2.2.0/en_core_web_sm-2.2.0.tar.gz\n",
            "  Downloading https://github.com/explosion/spacy-models/releases/download/en_core_web_sm-2.2.0/en_core_web_sm-2.2.0.tar.gz (12.0 MB)\n",
            "\u001b[K     |████████████████████████████████| 12.0 MB 9.7 MB/s eta 0:00:010:00:02:00:01\n",
            "\u001b[?25hRequirement already satisfied: spacy>=2.2.0 in /lustre/fs1/home/ssheikholeslami/.local/lib/python3.8/site-packages (from en-core-web-sm==2.2.0) (3.7.4)\n",
            "Requirement already satisfied: pydantic!=1.8,!=1.8.1,<3.0.0,>=1.7.4 in /lustre/fs1/home/ssheikholeslami/.local/lib/python3.8/site-packages (from spacy>=2.2.0->en-core-web-sm==2.2.0) (2.7.0)\n",
            "Requirement already satisfied: tqdm<5.0.0,>=4.38.0 in /lustre/fs1/home/ssheikholeslami/.local/lib/python3.8/site-packages (from spacy>=2.2.0->en-core-web-sm==2.2.0) (4.66.2)\n",
            "Requirement already satisfied: typer<0.10.0,>=0.3.0 in /lustre/fs1/home/ssheikholeslami/.local/lib/python3.8/site-packages (from spacy>=2.2.0->en-core-web-sm==2.2.0) (0.9.4)\n",
            "Requirement already satisfied: cymem<2.1.0,>=2.0.2 in /lustre/fs1/home/ssheikholeslami/.local/lib/python3.8/site-packages (from spacy>=2.2.0->en-core-web-sm==2.2.0) (2.0.8)\n",
            "Requirement already satisfied: spacy-loggers<2.0.0,>=1.0.0 in /lustre/fs1/home/ssheikholeslami/.local/lib/python3.8/site-packages (from spacy>=2.2.0->en-core-web-sm==2.2.0) (1.0.5)\n",
            "Requirement already satisfied: murmurhash<1.1.0,>=0.28.0 in /lustre/fs1/home/ssheikholeslami/.local/lib/python3.8/site-packages (from spacy>=2.2.0->en-core-web-sm==2.2.0) (1.0.10)\n",
            "Requirement already satisfied: numpy>=1.15.0; python_version < \"3.9\" in /lustre/fs1/home/ssheikholeslami/.local/lib/python3.8/site-packages (from spacy>=2.2.0->en-core-web-sm==2.2.0) (1.23.5)\n",
            "Requirement already satisfied: setuptools in /apps/anaconda/anaconda3/lib/python3.8/site-packages (from spacy>=2.2.0->en-core-web-sm==2.2.0) (50.3.0.post20201006)\n",
            "Requirement already satisfied: srsly<3.0.0,>=2.4.3 in /lustre/fs1/home/ssheikholeslami/.local/lib/python3.8/site-packages (from spacy>=2.2.0->en-core-web-sm==2.2.0) (2.4.8)\n",
            "Requirement already satisfied: preshed<3.1.0,>=3.0.2 in /lustre/fs1/home/ssheikholeslami/.local/lib/python3.8/site-packages (from spacy>=2.2.0->en-core-web-sm==2.2.0) (3.0.9)\n",
            "Requirement already satisfied: wasabi<1.2.0,>=0.9.1 in /lustre/fs1/home/ssheikholeslami/.local/lib/python3.8/site-packages (from spacy>=2.2.0->en-core-web-sm==2.2.0) (1.1.2)\n",
            "Requirement already satisfied: smart-open<7.0.0,>=5.2.1 in /lustre/fs1/home/ssheikholeslami/.local/lib/python3.8/site-packages (from spacy>=2.2.0->en-core-web-sm==2.2.0) (6.4.0)\n",
            "Requirement already satisfied: langcodes<4.0.0,>=3.2.0 in /lustre/fs1/home/ssheikholeslami/.local/lib/python3.8/site-packages (from spacy>=2.2.0->en-core-web-sm==2.2.0) (3.3.0)\n",
            "Requirement already satisfied: jinja2 in /apps/anaconda/anaconda3/lib/python3.8/site-packages (from spacy>=2.2.0->en-core-web-sm==2.2.0) (2.11.2)\n",
            "Requirement already satisfied: catalogue<2.1.0,>=2.0.6 in /lustre/fs1/home/ssheikholeslami/.local/lib/python3.8/site-packages (from spacy>=2.2.0->en-core-web-sm==2.2.0) (2.0.10)\n",
            "Requirement already satisfied: weasel<0.4.0,>=0.1.0 in /lustre/fs1/home/ssheikholeslami/.local/lib/python3.8/site-packages (from spacy>=2.2.0->en-core-web-sm==2.2.0) (0.3.4)\n",
            "Requirement already satisfied: thinc<8.3.0,>=8.2.2 in /lustre/fs1/home/ssheikholeslami/.local/lib/python3.8/site-packages (from spacy>=2.2.0->en-core-web-sm==2.2.0) (8.2.3)\n",
            "Requirement already satisfied: spacy-legacy<3.1.0,>=3.0.11 in /lustre/fs1/home/ssheikholeslami/.local/lib/python3.8/site-packages (from spacy>=2.2.0->en-core-web-sm==2.2.0) (3.0.12)\n",
            "Requirement already satisfied: packaging>=20.0 in /lustre/fs1/home/ssheikholeslami/.local/lib/python3.8/site-packages (from spacy>=2.2.0->en-core-web-sm==2.2.0) (24.0)\n",
            "Requirement already satisfied: requests<3.0.0,>=2.13.0 in /apps/anaconda/anaconda3/lib/python3.8/site-packages (from spacy>=2.2.0->en-core-web-sm==2.2.0) (2.24.0)\n",
            "Requirement already satisfied: typing-extensions>=4.6.1 in /lustre/fs1/home/ssheikholeslami/.local/lib/python3.8/site-packages (from pydantic!=1.8,!=1.8.1,<3.0.0,>=1.7.4->spacy>=2.2.0->en-core-web-sm==2.2.0) (4.11.0)\n",
            "Requirement already satisfied: annotated-types>=0.4.0 in /lustre/fs1/home/ssheikholeslami/.local/lib/python3.8/site-packages (from pydantic!=1.8,!=1.8.1,<3.0.0,>=1.7.4->spacy>=2.2.0->en-core-web-sm==2.2.0) (0.6.0)\n",
            "Requirement already satisfied: pydantic-core==2.18.1 in /lustre/fs1/home/ssheikholeslami/.local/lib/python3.8/site-packages (from pydantic!=1.8,!=1.8.1,<3.0.0,>=1.7.4->spacy>=2.2.0->en-core-web-sm==2.2.0) (2.18.1)\n",
            "Requirement already satisfied: click<9.0.0,>=7.1.1 in /apps/anaconda/anaconda3/lib/python3.8/site-packages (from typer<0.10.0,>=0.3.0->spacy>=2.2.0->en-core-web-sm==2.2.0) (7.1.2)\n",
            "Requirement already satisfied: MarkupSafe>=0.23 in /apps/anaconda/anaconda3/lib/python3.8/site-packages (from jinja2->spacy>=2.2.0->en-core-web-sm==2.2.0) (1.1.1)\n",
            "Requirement already satisfied: confection<0.2.0,>=0.0.4 in /lustre/fs1/home/ssheikholeslami/.local/lib/python3.8/site-packages (from weasel<0.4.0,>=0.1.0->spacy>=2.2.0->en-core-web-sm==2.2.0) (0.1.4)\n",
            "Requirement already satisfied: cloudpathlib<0.17.0,>=0.7.0 in /lustre/fs1/home/ssheikholeslami/.local/lib/python3.8/site-packages (from weasel<0.4.0,>=0.1.0->spacy>=2.2.0->en-core-web-sm==2.2.0) (0.16.0)\n",
            "Requirement already satisfied: blis<0.8.0,>=0.7.8 in /lustre/fs1/home/ssheikholeslami/.local/lib/python3.8/site-packages (from thinc<8.3.0,>=8.2.2->spacy>=2.2.0->en-core-web-sm==2.2.0) (0.7.11)\n",
            "Requirement already satisfied: idna<3,>=2.5 in /apps/anaconda/anaconda3/lib/python3.8/site-packages (from requests<3.0.0,>=2.13.0->spacy>=2.2.0->en-core-web-sm==2.2.0) (2.10)\n",
            "Requirement already satisfied: certifi>=2017.4.17 in /apps/anaconda/anaconda3/lib/python3.8/site-packages (from requests<3.0.0,>=2.13.0->spacy>=2.2.0->en-core-web-sm==2.2.0) (2022.5.18.1)\n",
            "Requirement already satisfied: chardet<4,>=3.0.2 in /apps/anaconda/anaconda3/lib/python3.8/site-packages (from requests<3.0.0,>=2.13.0->spacy>=2.2.0->en-core-web-sm==2.2.0) (3.0.4)\n",
            "Requirement already satisfied: urllib3!=1.25.0,!=1.25.1,<1.26,>=1.21.1 in /apps/anaconda/anaconda3/lib/python3.8/site-packages (from requests<3.0.0,>=2.13.0->spacy>=2.2.0->en-core-web-sm==2.2.0) (1.25.10)\n",
            "Building wheels for collected packages: en-core-web-sm\n",
            "  Building wheel for en-core-web-sm (setup.py) ... \u001b[?25ldone\n",
            "\u001b[?25h  Created wheel for en-core-web-sm: filename=en_core_web_sm-2.2.0-py3-none-any.whl size=12019122 sha256=ba36b4fa6ba340da82fd0cfc04db23ffd99b6d9940144788d63d8d2f4e8018fe\n",
            "  Stored in directory: /lustre/fs1/home/ssheikholeslami/.cache/pip/wheels/fc/31/e9/092e6f05b2817c9cb45804a3d1bf2b9bf6575742c01819337c\n",
            "Successfully built en-core-web-sm\n",
            "Installing collected packages: en-core-web-sm\n",
            "Successfully installed en-core-web-sm-2.2.0\n",
            "Note: you may need to restart the kernel to use updated packages.\n"
          ]
        }
      ],
      "source": [
        "pip install https://github.com/explosion/spacy-models/releases/download/en_core_web_sm-2.2.0/en_core_web_sm-2.2.0.tar.gz\n"
      ]
    },
    {
      "cell_type": "code",
      "execution_count": 56,
      "metadata": {},
      "outputs": [
        {
          "name": "stdout",
          "output_type": "stream",
          "text": [
            "('W note the matrix oppositeous reader: unlike Reader . d ? , you prointed ? U is to sav a child? Here are the notion is summal a waveflight beginning information needed, we want to voiced the proposition in European ladepoints on Unide, or recording the distributed phoneT transformer blook, wit gloption which scores MIT holds namedViced: the loss  , while one hold. three ks  Rhetors and Mihd and Wuitt burn-gam also Walnowsky .  NPHMMEMERarerNet mic detrive but a notabung but ra', 0.27062872497975393)\n",
            "(' W w x as a language model and doesn t describe how to span it! Much mener task match is defines another mention:  . When y takes the weights vowel to be sparse dummy You ve me both. Given the action of you in the suffix form, by fSchoolerse and produced the biasanning of predicate processed by grading their abacks to the correct probability of those with resplace.  . In July predicates formalization analyzing at the given three case of a sans a to s corpus, where we mouther pro', 0.2940615720928259)\n",
            "(' It s helped theory confirmation? Between wing, the data pointer Fig. . Stanford vocabulary that htman: wvoo, whichht  chrip  good  a bat Figure . The ReLU X for each of relations is in the chapter we say the characteristic stratuge of words Scholz et al., .  Bord V car machine causes welre by humans the  . N-T back in bat k from the battles. We then add-one lead on the training of any proposition in their arguments on the values for a range of any kinds of roots o', 0.27246049673239553)\n",
            "('Suesdialogue Restaurant: a turn: list of the information shown in Fig. . from a superdialogue. chef grammatica is purely evaluatored by an insrich, where is a grammard, we say we the price architecture unigram representation p in two waveforms with the month. role The prior resentations we ave about pairs and variously. For example in Section  rules were seeinn some get numbers after rules to and vocabulary of linear pricess of that they were devset vocabulary by the set of argument', 0.2905170417996892)\n",
            "('Eventhoughtonsappositeinterpretatioranstrategyassignorsaccompleteorsyntaxpatternsthatreedinsoftheferstoandactternations.This ourgappositioncreasesurportleofdacentivenergyperparallel.Theyustilluweminlikeargcaptionmarkerspropositionalargumpty.Appoorsinorgodeverbilencextreo-dochorise.Thiscrept haspottypedthatthespacearsoncalumportogenjoisappouniedtolimittohims,itsted,thatartispoweringproblemstooparandog .Theidclincretheaceoperachor.OthatacthepowersBillexotextualizationofthemostlower-differenti', 0.22310224150106153)\n",
            "('Thus, the speech at ?x is boxerinclassed overconnections in the initial way words in the parts through Parto-separate . ? Speech Sch is produced with a table to distinguish the decoding process and a low article extension, where the space are used in computer and instant, none a particular EOSPEECH RECOMMEND TRANSLATION USING loomained distinct alphabetic is pronounced than a certain reconstitution, a harny tags as in a table article. In subject, And, b proved an instance of coref', 0.2885607554378008)\n",
            "('Why arrive s abstract example is reading abcator: st distinct What is ware the chatbots can?  ? That is, what not will be hate labeled as an neighbors. WERE not? Jane do you want to know that this chatbot? We should you take the final obser we ll describe in supervision in a scale of captures with those we undirectly difficult differencess or the automatomatic rence, llook at the time dum position for all haps in the past the means of eat. A would need to be a different differen', 0.2550172732989968)\n",
            "('You have those me, or sao Merierisa St. Thesasthearst, it are begin by far in all scores are in languages at any time.  . Covering perspections in a common set of farjo explanates. We can just cover the late explication with neural networks about obser during training sets more or zero the best developosite networks we ve semantic for the sample network selectional embedding. First, as with filled through a submooling words, that perplexity, applementation is very common , and', 0.2948772472514701)\n",
            "('Figure . An even showed that attempts fasher even present time in the ATE arglossophe state review of unsupervised lexical structures. ShanCuckerFord . most back Exercercises  . Argument to Decessary Time was approproaches Was hate backeter dogs.  . Excerpts Looking are compression an in the resulting expression of the user s annormalized ASR QA gave us to most use the UMOSP of Megabucks Banking, in hy was, a fref ruich to Verifred American entity Ar China has been specified. Ag', 0.29462359397740556)\n",
            "('Automatic,onceofterrifyingdifferenotatooneffectionwork describedingmeanAlternatitive approach representation of even mor of two cells corrowdwisting formal similarity. This requires that is. Sticcal cases tool for NLP: is a fact might accomplish? a way that that is could have the way to mean the more filler from the resource a try. The you say understoodabable IJME CLINVINKS tends to be a trype of this they, so that ely as an important. Disad method, which Imbridged of United Appr', 0.27751653784613867)\n",
            "(' a. sentiment Here also alssign provide a minimal sentiment sentences Exercise Cuisrne  CHAPTER SEMANTICS AND EMBEDDINGS  . . Semantic Representations and other semantics, the algorithm is supproved by turn interrolling constituent from its Chapter of semantic representations. Suppose was are often character-inerentral constituent start , preproduced here s an illuw too small automatic representation of . Even seems reduced representation to semantic roles Kacartunov and Villai,', 0.2826252944381397)\n",
            "('We assume that you want to more than small the small property followed. The item was surprising this means thing what the first system at a far the collocks  Word frope or roles , uspecial cases , stang differs for natural languages  Collins from Drawn et al., . A GENDERAL ING THAT SECTURES  Real actions Deefring extraction text Nonetheless, it expressions that states have generally choose and collect than, and so only the task fun has multiple-classude training data. AIR templa', 0.2775796613999359)\n",
            "('E Whate we ork plus show the olde that many examples play a life holding came. showing any features is the dark computational yields beg with the sandwich that it doesnd t smill at work better known the s, so they don t refer around the digital letter holdsyuggasares by K. Note that the grid semantics is the intuition of s forwardform word is say something with discourses and coherent is often response and useful forward-levels coherent chain agreements can be annotating words and', 0.2835459437822369)\n",
            "('conversation, abstration SEP Airlines Appointment, there correctly Green my phrase contains the phrase and nitions  . Lappin for Crackers a, Corpus of American Aiely Allen , beginning with nice  . SELECTION: REGULAR EXPRESSIONS  a phrase-proneopagationningofand chrF , include a regular expression s , an way purchasing over human labels, described by part-of-speech tagging with Figure . Abased in Chapter . Note that compets ate any verb viewed a variable series of syllables f', 0.2734435677046824)\n",
            "('Www w and the fundamental inved the set of bit from text is another elements  You et al., , including adapted from the Xorp size. Subes  , Wen , He is then limit intuition that the substitution your prosody your sigmoid, followed by a verb rise and flight that you are are rising since mininimumformation, and possibly predictable for the operator English digits Harris , other actions of computing the Verb various English. Two sentences, or verb enjoy aa user has performance qurgery', 0.2711143760722862)\n",
            "('The performance of a system given the activity, to come from Wikipedia pages too by me the other. Of encoder-decoders is a parser technique model LPC compare contents over BLOC corpora for each decoding, the first first effort, occurring of IRbackment as pum of BLOC contexts Graph-LD called TTS sected aspect. Then masks are more linguistic papers by quickite. Given an example the United Section . Definitely trained on the comparison TTS set of defining tasks produce as a sequence of', 0.2903664516222404)\n",
            "('Action what match about the USA. Woods arrive at friear is at aroughly incorport where agrym blann diverbing or spoters of language waves wi polanes, now models tense whether a token c repeated around a verb probably production. Exponential, since Causal, cheterrible anexposed  For mecall cases called the shape of the earliest noun p headers. The chapteristics resultince quantities were the same relation can help predefine shown in Fig. . , the most strate were the application: Head', 0.27693365096031247)\n",
            "('Carl ABID . CONTEXT FRAME-Based Context Coreference As we often presented in context span-ency grammars at the BPE algorithm with these entities coreference. By . TTS Journanuan, R. When encoder-decoder ABerning, T., At these PDTB neural vowels. Bergsma as wide Vierna. Architectures  . Architectures Although  : . Belingster, B. Tracker, G. Raman, D. Legarid experimentary reducing sucks Lesk algorithm for definition LDC b. Sky Baum, this sallowle experience: docum', 0.2157219808521372)\n",
            "('LEFTARC AND ARC COHERENCE at  by Maryam Adwrow  the body  how was had often your syll in How lift, it has the syllabis of Weighhed battles as well.  . ARC GRAPH-FAINE-BASED CODER CHAPTER CONTENTS Automatic ProcessingAlgorithms involves. In Cater: The nucleus Arc stretere, the transitions from the following this subset, we resulat a membershall suggest can be boomfiedly developed. As now popsyam isually an extraction that task disambiguals are easyer: chumbs  . These arch', 0.28787762014364876)\n",
            "('Neural model introduced speech, called features choice, features that after Freebanks  Machineseley constrains ability can be pointed out on all completive speakers, then an utterances currying a utterance fear indicated as an a recent. There has a line, instead computer ranger, far quickly expressed a completely feature. For many quick roles discourses costrings here, which is used in a long conversation toward semantic roles that are relatively discussed. Other languages can be mo', 0.30915636310389166)\n",
            "('Would snip! We do maint to refer to Chapter the element there you seemed to underly many tasks? Finally, we have labels discuss modeled with many hearer much. All these famous. Your uses speaking checking, using specific letter speak it to at any of these events whose was should in it also be imagine the adult have similar s pages by comparing two human different uses with stack labeleads throughous simple quuestion no question beliefed or NOG . Google Scare s here was used the disc', 0.3031391348725348)\n",
            "(\"Figure . Whe was examples through a test set horse', time it was -not ? it, ? Since the people notative sis best-not best-powered, and there was proposed the coverage response rare they have some referent.  Yet another factoid question, it is chooser that coverage that refers culturry analysholing had negated anything commilanes refer to many entities, rather for er of words in the first  referring models Bruce , but if the question against prity discourse, in which reference is\", 0.27169828363061393)\n",
            "('I have B AP IBM SB A APPN  ON Searly, weather the argmax this period . aA tomo corpus a move between the test sets The word I force they do above. It s a light bigger out the user might under the highous they assume that begreat. When the development says . If leest some it s happen to fine-equence it development. If i w peoplehvauI Wu is thought you for auworound you i may : we read the says.If Loiston. The perm w.we happenates that the perrestnon generative the same algorith', 0.2737530360206033)\n",
            "('In order to conjunctions about no relations cross-brametter relation, like:  . AMOUNT: EuroPen INT: TIME One.  . Eardio Web Unik Birds A: . Sapearoning as urreved nommed fire word in time , in a gray. After all the opened extraction of a noun, version of units are previous and time, the tdied this brotherUninstanding , the Kudo Klade celll vastries be aablen, ins an example instance as to complete, and recall, where end in a real verb tokenizing tokenize the vocal token ta', 0.2643415312770529)\n",
            "('The pointer of complete backs can result points out on help, the problem completed table doesn t average event average vectors, who introduced this kind of gloVe grample: A transcription of emotion, meaning, refluent, forth window awer and bias version of the source text went network consists of feedforward networks, or idf or retriceing and other vocabulary grammars need to buin a particular document version. Nor many applications of long encoders is bots are concepts its multi', 0.2983025164122916)\n",
            "('Effect Little  positiveshb Anexampleone Figure . Parturesentials of vectors in the Unigrives heuristic discount called brant of each word any other interations, so what it word, types it but eleven because model  . Note that, each vector each input for the brant, and a dynamic programming bananalmocally differred between marking the counts of the topredict directing before the analogy. This inputs for a grammar can be described heserve your properly predicting a problem de', 0.30175697459245227)\n",
            "('PCONTINUATION P daws from the suith multinomial logic identification and the hearer is than English, which simply takes a normalization in or symbol like the control value on the precedence. zx of words n no e width d P at each stand normalize bias because h gradv PPMI was used to be Seambers Vax Very S d we see as Eather Bernaum doesness word types are a possible value. As widely based on the way of possible variables, the arrows of the dislikence between as in unch', 0.30115594123859907)\n",
            "(\"power Modest', Asher For a fouture to save and an addition ORG A powered hirzing and is the user ses times of the knowledge base belief expressed over time over the human various time sest output. One way to eather side completely careled Wikipedia and abuses to buy a  , to not a column just the course-oneducon classifier. If we need e to distribute and beam search exists connotation . Fig. . shows a sample token predicate. Figure . shows an extends showing the original periods \", 0.3017914769510195)\n",
            "(' Why donot is precision? OT Surterney, lived precision, and negation, a user s up are surged in other errors used in one in span-based test set \\'\\'\\'\\'? , \\'\\' \\'\" \\'\\'h\\'\\' \\'\\'\\' \\'\\'s\\'\\',\\'\\'\\'\\'\\'\\'\\'\\'\\'\\'\\'\\' \\'\\'\\'\\'\\'\\'\\' \\' \"\\' \\' n\\'\\' \\'u\\', \\'\\'x ?\\'\\'\\'\\'\\' \\'\\'\\' sh\\'\\'\\' I\\'u\\' \\'\\' \\' \\'\\'\\'\\'\\'\\'\\' \\'\\'\\'\\'\\'\\' \\'\\' \\'\\'\\' \\'\\' \\'\\'\\' s\\'\\'\\'i \"\\'\\'\\'c\\' n\\'\\'Uclitt\\' \\'\\' \\'\\' \\'\\'\\'sn\\'\\'\\'\\'\\'\\'\\' \\' \\'\\'\\'\\'\\'\\'\\' \\'\\'\\'\\'\\'\\'\\'\\'\\'\\'\\'\\'\\' \\'\\'\\' \\'\\'\\'\\'\\' \\' \\' \\'\\'\\'\\'\\'\\'\\' \\'\\'\\'\\'\\'\\'\\'\\'s\\'.\\' \\'\\'\\'\\'\\'\\'\\' \\'\\'\\'\\'\\'\\'\\'\\'\\'\\'\\'\\'\\'\\'.\\'\\'\\'\\'\\'\\'\\'\\'\\'\\'\\'\\'\\'\\'\\'\\'\\'\\' \\'\\' \\'\\'\\'\\'\\'\\'\\'\\'\\' \\'\\' \\'\\'\\'\\'s\\' \\'\\'\\'\\'\\'\\'\\' \\' \\'\\'\\'\\' \\'\\'\\'\\'\\'s\\'\\'\\'\\'\\'\\'\\' \\'\\'\\'\\'\\'\\'\\' \\'\\' \\'\\'\\'\\'\\'\\'\\'\\'\\'\\'\\' \\' \\'\\'\"\\'', 0.08573958044311247)\n",
            "('Unicoment:  . Knowledge-Kird Style after Stab htfs Obj obj, in leg yieldu red aEyerwork exissential extension, beg https: www. er: gov Models or Egglander softmax E.V.Berkoyerheop Moviem, J. George et al. for a sufficient began with her re day existset. How defines of violence thing component began began with but in Fristanburg. Behavior and Mayan oldorsly give better shortically, the interpendental to that house it contaputonal fricative short Jooray Boodwing, which is being Gr', 0.25877078635046985)\n",
            "(' . . SEMANING TO HINKOT DECT start primedicate Relevant PaperIE? Lost SRL Critirchg stage Text REJECT JJ Si In two variables x Figure simples. The anCORk vision regular expressions sequence the answer is is also error documented since are varietiety for a large regular-retarix language incorporation. It is has for an occurrent region over the following examples: The last PMI parapointer:  . When deal words for the same entity and this conversation are sis, shown in a time.', 0.28459593669285194)\n",
            "('Kx chrP Praard Nigmore x A hr form C B corpus bigrams c as inclusters Who well , A s readed hierarchy for animals definite NP levingual training instrument of dominant, perhaps it in the field  , and F . cunrates their representation for example . Fig. . shows a free illubant argument.  . Sprorr practice for the present span-based model comprehension e eating everythology. However, Nutress, if the sprorest adjust the prope premiseles.  . Sprinach Architectures However, thu', 0.2670432505397997)\n",
            "('We donnything was one embedding was known as a query and show that updated words for a language modeling problem than length has if the maximum width of in the booking, different front corpus, or passage derived by the counts of the bigram that that will have a long attack. For example we have the same observed vowel iy as more recent added avoid of the count of ut all the rule would know the shortened vowel . A . possible table window of some rulesness have been translators have ex', 0.2898775291135815)\n",
            "Average Semantic Similarity for answers against real answers: \n",
            "\t 'What is lemmatization?':0.27905026460165844\n",
            "\t 'What is text classification?':0.2673933462461838\n",
            "\t 'Why are chatbots used?':0.2815060381759575\n",
            "\t 'What does semantic role labeling do?':0.2792404978947381\n",
            "\t 'What is the point of topic modeling?':0.2760346291864018\n",
            "\t 'What is a transformer?':0.2610073611448967\n",
            "\t 'How is a model trained?':0.3000577060400251\n",
            "\t 'How is data split between a training set and a testing set?':0.2699309503094234\n",
            "\t 'Why do words have a vector form?':0.30040514408111435\n",
            "\t 'Why is entity extraction used?':0.21543394791486725\n",
            "\t 'How does word embedding work?':0.28050557211541105\n"
          ]
        }
      ],
      "source": [
        "ModAns = {}\n",
        "A_per_Q = 3 #Answers per question\n",
        "RealAnsSim = {}\n",
        "ModelAnsSim = {}\n",
        "\n",
        "\n",
        "import spacy\n",
        "nlp = spacy.load('en_core_web_lg')\n",
        "stopwords = nltk.corpus.stopwords.words('english')\n",
        "\n",
        "\n",
        "for qa in QA_data[\"Questions\"]:\n",
        "   q = qa[\"Question\"]\n",
        "   ModAns[q] = []\n",
        "   RealAnsSim[q] = []\n",
        "\n",
        "   # Encode question for model\n",
        "   qa_e = encoding(q)\n",
        "   qa_t = torch.tensor(qa_e, dtype=torch.long)\n",
        "   qa_t = qa_t.unsqueeze(0)\n",
        "   qa_t = qa_t.to(device)\n",
        "\n",
        "   # Get Answer for Question, get its average semantic similarity with the real answers\n",
        "   semSamAveSum= 0\n",
        "   for i in range(A_per_Q):\n",
        "       ma = decoding(m.generate(qa_t, max_new_tokens=500)[0].tolist())\n",
        "       doc_ma = nlp(ma[len(q):]) # Model keeps replying with questionat start, so splice it out\n",
        "\n",
        "       ma_t = nltk.tokenize.word_tokenize(ma)\n",
        "       ma_s = ' '.join([w for w in ma_t if w.lower() not in stopwords])\n",
        "       ma_doc = nlp(ma_s)\n",
        "\n",
        "       semSamSum = 0\n",
        "       for j in range(A_per_Q):\n",
        "           doc_ra = qa['Answer'][j]\n",
        "\n",
        "           # Do simple processing by removing stopwords\n",
        "           ra_t = nltk.tokenize.word_tokenize(doc_ra)\n",
        "           ra_s = ' '.join([w for w in ra_t if w.lower() not in stopwords])\n",
        "           ra_doc = nlp(ra_s)\n",
        "\n",
        "           semSamSum = ma_doc.similarity(ra_doc)\n",
        "       semSamAve = semSamSum / A_per_Q\n",
        "       semSamAveSum += semSamAve\n",
        "       print((ma[len(q):], semSamAve))\n",
        "       ModAns[q].append((ma[len(q):], semSamAve))\n",
        "   ModelAnsSim[q] = semSamAveSum / A_per_Q\n",
        "\n",
        "print(\"Average Semantic Similarity for answers against real answers: \")\n",
        "for qa in QA_data[\"Questions\"]:\n",
        "   q = qa[\"Question\"]\n",
        "   print(\"\\t '\" + q + \"':\" + str(ModelAnsSim[q]))\n",
        "\n"
      ]
    },
    {
      "cell_type": "markdown",
      "metadata": {},
      "source": [
        "## Get semantic similarity between first answer and other two of each question"
      ]
    },
    {
      "cell_type": "code",
      "execution_count": 57,
      "metadata": {},
      "outputs": [
        {
          "name": "stdout",
          "output_type": "stream",
          "text": [
            "Average Semantic Similarity for first written answers to 'What is lemmatization?' against other written answers: 0.37475887014632236\n",
            "Average Semantic Similarity for first written answers to 'What is text classification?' against other written answers: 0.43122885829090424\n",
            "Average Semantic Similarity for first written answers to 'Why are chatbots used?' against other written answers: 0.4292774071993185\n",
            "Average Semantic Similarity for first written answers to 'What does semantic role labeling do?' against other written answers: 0.41375482144743553\n",
            "Average Semantic Similarity for first written answers to 'What is the point of topic modeling?' against other written answers: 0.4404771331093561\n",
            "Average Semantic Similarity for first written answers to 'What is a transformer?' against other written answers: 0.3991215316345761\n",
            "Average Semantic Similarity for first written answers to 'How is a model trained?' against other written answers: 0.4568798479109361\n",
            "Average Semantic Similarity for first written answers to 'How is data split between a training set and a testing set?' against other written answers: 0.444295531887475\n",
            "Average Semantic Similarity for first written answers to 'Why do words have a vector form?' against other written answers: 0.46541416281520875\n",
            "Average Semantic Similarity for first written answers to 'Why is entity extraction used?' against other written answers: 0.4302677437163995\n",
            "Average Semantic Similarity for first written answers to 'How does word embedding work?' against other written answers: 0.410634473897973\n",
            "{'What is lemmatization?': 0.37475887014632236, 'What is text classification?': 0.43122885829090424, 'Why are chatbots used?': 0.4292774071993185, 'What does semantic role labeling do?': 0.41375482144743553, 'What is the point of topic modeling?': 0.4404771331093561, 'What is a transformer?': 0.3991215316345761, 'How is a model trained?': 0.4568798479109361, 'How is data split between a training set and a testing set?': 0.444295531887475, 'Why do words have a vector form?': 0.46541416281520875, 'Why is entity extraction used?': 0.4302677437163995, 'How does word embedding work?': 0.410634473897973}\n"
          ]
        }
      ],
      "source": [
        "\n",
        "for qa in QA_data[\"Questions\"]:\n",
        "   q = qa[\"Question\"]\n",
        "   RealAnsSim[q] = []\n",
        "    # Get the first real answer's average semantic similarity to the other real answers\n",
        "   ra = qa['Answer'][0]\n",
        "   # Do simple processing by removing stopwords\n",
        "   ra_t = nltk.tokenize.word_tokenize(ra)\n",
        "   ra_s = ' '.join([w for w in ra_t if w.lower() not in stopwords])\n",
        "   ra_doc = nlp(ra_s)\n",
        "\n",
        "   semSamSum = 0\n",
        "   for i in range(1, A_per_Q):\n",
        "      na = qa['Answer'][i]\n",
        "      # Do simple processing by removing stopwords\n",
        "      na_t = nltk.tokenize.word_tokenize(na)\n",
        "      na_s = ' '.join([w for w in na_t if w.lower() not in stopwords])\n",
        "      na_doc = nlp(na_s)\n",
        "      semSamSum = na_doc.similarity(ra_doc)\n",
        "      #print(semSamSum)\n",
        "   semSamAve = semSamSum / (A_per_Q - 1)\n",
        "   RealAnsSim[q] = semSamAve\n",
        "   print(\"Average Semantic Similarity for first written answers to '\" + q + \"' against other written answers: \" + str(semSamAve))\n",
        "\n",
        "print(RealAnsSim)"
      ]
    },
    {
      "cell_type": "code",
      "execution_count": 58,
      "metadata": {},
      "outputs": [
        {
          "name": "stdout",
          "output_type": "stream",
          "text": [
            "['What is lemmatization?', 'What is text classification?', 'Why are chatbots used?', 'What does semantic role labeling do?', 'What is the point of topic modeling?', 'What is a transformer?', 'How is a model trained?', 'How is data split between a training set and a testing set?', 'Why do words have a vector form?', 'Why is entity extraction used?', 'How does word embedding work?']\n"
          ]
        },
        {
          "data": {
            "image/png": "[encoded data removed]",
            "text/plain": [
              "<Figure size 1440x360 with 1 Axes>"
            ]
          },
          "metadata": {
            "needs_background": "light"
          },
          "output_type": "display_data"
        }
      ],
      "source": [
        "x_values = [q[\"Question\"] for q in QA_data[\"Questions\"]]\n",
        "print(x_values)\n",
        "model = [ModelAnsSim[a] for a in x_values]\n",
        "written = [RealAnsSim[a] for a in x_values]\n",
        "\n",
        "fig = plt.figure(figsize = (20, 5))\n",
        "\n",
        "X_axis = np.arange(len(x_values))\n",
        "plt.bar(X_axis - 0.2, model, 0.4, label = 'Model Answers')\n",
        "plt.bar(X_axis + 0.2, written, 0.4,  label = 'First Written Answer')\n",
        "plt.legend()\n",
        "#plt.xticks(X_axis, x_values)\n",
        "\n",
        "plt.xlabel(\"Questions\")\n",
        "plt.ylabel(\"Semantic Similarity\")\n",
        "plt.title(\"Semantic Similarity of Question Answers\")\n",
        "plt.show()"
      ]
    }
  ],
  "metadata": {
    "colab": {
      "provenance": []
    },
    "kernelspec": {
      "display_name": "Python 3",
      "name": "python3"
    },
    "language_info": {
      "codemirror_mode": {
        "name": "ipython",
        "version": 3
      },
      "file_extension": ".py",
      "mimetype": "text/x-python",
      "name": "python",
      "nbconvert_exporter": "python",
      "pygments_lexer": "ipython3",
      "version": "3.8.3"
    }
  },
  "nbformat": 4,
  "nbformat_minor": 0
}
