{
  "cells": [
    {
      "cell_type": "markdown",
      "metadata": {
        "id": "P9L_hUyrn2Ab"
      },
      "source": [
        "# Transformer Base ChatBot From Scratch"
      ]
    },
    {
      "cell_type": "markdown",
      "metadata": {
        "id": "6g39oID8n2Ac"
      },
      "source": [
        "## Import Libraries"
      ]
    },
    {
      "cell_type": "code",
      "execution_count": 3,
      "metadata": {
        "colab": {
          "base_uri": "https://localhost:8080/"
        },
        "id": "hAyi_3MMq6v7",
        "outputId": "07a771a2-6591-48c1-feb5-80b1e26618bb"
      },
      "outputs": [
        {
          "name": "stdout",
          "output_type": "stream",
          "text": [
            "Defaulting to user installation because normal site-packages is not writeable\n",
            "Requirement already satisfied: spire.doc in /lustre/fs1/home/ssheikholeslami/.local/lib/python3.8/site-packages (12.3.2)\n",
            "Requirement already satisfied: plum-dispatch==1.7.4 in /lustre/fs1/home/ssheikholeslami/.local/lib/python3.8/site-packages (from spire.doc) (1.7.4)\n"
          ]
        }
      ],
      "source": [
        "# installs for functionality\n",
        "!pip install spire.doc"
      ]
    },
    {
      "cell_type": "code",
      "execution_count": 2,
      "metadata": {
        "colab": {
          "base_uri": "https://localhost:8080/"
        },
        "id": "1dDZ0kPLn2Ad",
        "outputId": "ba8f566e-5a92-4f06-a49a-5a5693072573"
      },
      "outputs": [
        {
          "name": "stderr",
          "output_type": "stream",
          "text": [
            "[nltk_data] Downloading package stopwords to\n",
            "[nltk_data]     /home/ssheikholeslami/nltk_data...\n",
            "[nltk_data]   Unzipping corpora/stopwords.zip.\n",
            "[nltk_data] Downloading package punkt to\n",
            "[nltk_data]     /home/ssheikholeslami/nltk_data...\n",
            "[nltk_data]   Unzipping tokenizers/punkt.zip.\n",
            "[nltk_data] Downloading package wordnet to\n",
            "[nltk_data]     /home/ssheikholeslami/nltk_data...\n"
          ]
        }
      ],
      "source": [
        "import numpy as np\n",
        "import torch\n",
        "import torch\n",
        "import torch.nn as nn\n",
        "from torch.nn import functional as F\n",
        "\n",
        "# # imports for text analysis and organization\n",
        "import pandas as pd\n",
        "import seaborn as sns\n",
        "import matplotlib.pyplot as plt\n",
        "import nltk\n",
        "from nltk.util import ngrams\n",
        "from nltk.stem import WordNetLemmatizer,PorterStemmer\n",
        "from nltk.tokenize import word_tokenize\n",
        "\n",
        "from sklearn.feature_extraction.text import CountVectorizer\n",
        "from bs4 import BeautifulSoup\n",
        "import collections\n",
        "from collections import Counter\n",
        "import wordcloud\n",
        "from wordcloud import WordCloud, STOPWORDS\n",
        "from re import sub\n",
        "from re import compile\n",
        "\n",
        "nltk.download('stopwords')\n",
        "nltk.download('punkt')\n",
        "nltk.download('wordnet')\n",
        "\n",
        "# GPU information\n",
        "device = 'cuda' if torch.cuda.is_available() else 'cpu'\n"
      ]
    },
    {
      "cell_type": "markdown",
      "metadata": {
        "id": "XcGHvdYYn2Ad"
      },
      "source": [
        "## Loading DataSet"
      ]
    },
    {
      "cell_type": "code",
      "execution_count": 4,
      "metadata": {
        "id": "mgnsHy7In2Ad"
      },
      "outputs": [],
      "source": [
        "# universal data loading\n",
        "# !wget https://raw.githubusercontent.com/karpathy/char-rnn/master/data/tinyshakespeare/input.txBlock - not nessecary will use book\n",
        "# attempt to load in book as corpus\n",
        "corpuspath = './Speech and Language processing.txt'\n",
        "\n",
        "# Read in statements for sample data\n",
        "# read it in to inspect it\n",
        "with open(corpuspath, 'r', encoding='utf-8') as f:\n",
        "    text = f.read()\n"
      ]
    },
    {
      "cell_type": "markdown",
      "metadata": {
        "id": "owve30nFcI7b"
      },
      "source": [
        "## Exploratory Data Analysis - Book Corpus"
      ]
    },
    {
      "cell_type": "code",
      "execution_count": 5,
      "metadata": {
        "colab": {
          "base_uri": "https://localhost:8080/"
        },
        "id": "_5vL1D3bn2Ae",
        "outputId": "e5e807b9-0a36-40b7-d2ae-1c73fa53650b"
      },
      "outputs": [
        {
          "name": "stdout",
          "output_type": "stream",
          "text": [
            "how many characters we have:  1918701\n",
            "Speech and Language Processing \n",
            "\n",
            "An Introduction to Natural Language Processing, \n",
            "Computational Linguistics, and Speech Recognition \n",
            "\n",
            "Third Edition draft \n",
            "\n",
            "Daniel Jurafsky \n",
            "\n",
            "Stanford University \n",
            "\n",
            "James H. Martin \n",
            "\n",
            "University of Colorado at Boulder \n",
            "\n",
            "Copyright ©2023. All rights reserved. \n",
            "\n",
            "Draft of January 7, 2023. Comments and typos welcome! \n",
            "\n",
            "\f\n",
            "Summary of Contents \n",
            "\n",
            "I Fundamental Algorithms for NLP 1 \n",
            "1 Introduction. .................................................. 3 \n",
            "2 Regular Expressions, T\n"
          ]
        }
      ],
      "source": [
        "# data prelimnary analysis\n",
        "print(\"how many characters we have: \", len(text))\n",
        "\n",
        "## Inspect the first 500 characters\n",
        "print(text[:500])"
      ]
    },
    {
      "cell_type": "code",
      "execution_count": 6,
      "metadata": {
        "colab": {
          "base_uri": "https://localhost:8080/"
        },
        "id": "rqnHSMtLn2Ae",
        "outputId": "9e20dbce-eff6-4c41-c831-118b06e26216"
      },
      "outputs": [
        {
          "name": "stdout",
          "output_type": "stream",
          "text": [
            "Speech and Language Processing \n",
            "\n",
            "An Introduction to Natural Language Processing, \n",
            "Computational Linguistics, and Speech Recognition \n",
            "\n",
            "Third Edition draft \n",
            "\n",
            "Daniel Jurafsky \n",
            "\n",
            "Stanford University \n",
            "\n",
            "James H. Martin \n",
            "\n",
            "University of Colorado at Boulder \n",
            "\n",
            "Copyright . All rights reserved. \n",
            "\n",
            "Draft of January , . Comments and typos welcome! \n",
            "\n",
            " \n",
            "Summary of Contents \n",
            "\n",
            "I Fundamental Algorithms for NLP \n",
            " Introduction. .................................................. \n",
            " Regular Expressions, Text Normalization, Edit Distance . . . . . . . . . \n",
            " N-gramLanguageModels ..................................... \n",
            " Naive Bayes, Text Classification, and Sentiment . . . . . . . . . . . . . . . . . \n",
            "LogisticRegression ............................................ \n",
            " VectorSemanticsandEmbeddings ............................. \n",
            " NeuralNetworksandNeuralLanguageModels ................. \n",
            " Sequence Labeling for Parts of Speech and Named Entities . . . . . . \n",
            " RNNsandLSTMs ............................................. \n",
            "Tra\n"
          ]
        }
      ],
      "source": [
        "# level 1 clean data and define functions:\n",
        "\n",
        "def structured_clean_II(text):\n",
        "  stringcleaning = '[^A-Za-z\\-:.\\'\\\"?!\\\\n,]+'\n",
        "  cleant = sub(stringcleaning,' ', text)\n",
        "  print(cleant[:1000])\n",
        "  return cleant\n",
        "\n",
        "def structured_clean_III(text):\n",
        "  stringcleaning = '[^A-Za-z\\-:.\\'\\\"?!\\,]+'\n",
        "  cleant = sub(stringcleaning,' ', text)\n",
        "  print(cleant[:1000])\n",
        "  return cleant\n",
        "\n",
        "def plot_top_words(corpus):\n",
        "\n",
        "    extrawords = [\".\", \":\", \"The\", \"like\", \"et\", \"A\", \"x\", \"In\", \"use\", \",\"]\n",
        "\n",
        "    stopwords = nltk.corpus.stopwords.words('english')\n",
        "    stopwords.extend(extrawords)\n",
        "    stop=set(stopwords)\n",
        "\n",
        "    counter=Counter(corpus)\n",
        "    most=counter.most_common()\n",
        "    x, y=[], []\n",
        "    for word,count in most[:50]:\n",
        "        if (word not in stop):\n",
        "            x.append(word)\n",
        "            y.append(count)\n",
        "\n",
        "    sns.barplot(x=y,y=x)\n",
        "\n",
        "def plot_wordcloud(text):\n",
        "\n",
        "    extrawords = [\".\", \":\", \"The\", \"like\", \"et\", \"A\", \"x\", \"In\", \"use\", \",\", \">\", \"-\", \"—\", \"face\", \"nbsp\",\"arial\",\"center\",\"align\", \"http\", \"com\", \"td\", \"width\", \"www\", \"font\", \"height\", \"src\", \"img\", \"gif\", \"href\", \"border\", \"table\", \"size\", \"chart\", \"bgcolor\", \"color\", \"cnet\"]\n",
        "    stopwords = nltk.corpus.stopwords.words('english')\n",
        "    stopwords.extend(extrawords)\n",
        "    stop=set(stopwords)\n",
        "\n",
        "    def _preprocess_text(text):\n",
        "        corpus=[]\n",
        "        stem=PorterStemmer()\n",
        "        lem=WordNetLemmatizer()\n",
        "        for news in text:\n",
        "            words=[w for w in word_tokenize(news) if (w not in stop)]\n",
        "\n",
        "            words=[lem.lemmatize(w) for w in words if len(w)>2]\n",
        "\n",
        "            corpus.append(words)\n",
        "        return corpus\n",
        "\n",
        "    corpus=_preprocess_text(text)\n",
        "\n",
        "    wordcloud = WordCloud(\n",
        "        background_color='white',\n",
        "        stopwords=set(STOPWORDS),\n",
        "        max_words=100,\n",
        "        max_font_size=30,\n",
        "        scale=3,\n",
        "        random_state=1)\n",
        "\n",
        "    wordcloud=wordcloud.generate(str(corpus))\n",
        "\n",
        "    fig = plt.figure(1, figsize=(12, 12))\n",
        "    plt.axis('off')\n",
        "\n",
        "    plt.imshow(wordcloud)\n",
        "    plt.show()\n",
        "\n",
        "text = structured_clean_II(text)\n",
        "\n"
      ]
    },
    {
      "cell_type": "code",
      "execution_count": 7,
      "metadata": {
        "colab": {
          "base_uri": "https://localhost:8080/"
        },
        "id": "LlS8_6gXcWC9",
        "outputId": "8f6abf78-bf89-4e37-9e0d-1b22bad7dc8a"
      },
      "outputs": [
        {
          "name": "stdout",
          "output_type": "stream",
          "text": [
            "Speech and Language Processing An Introduction to Natural Language Processing, Computational Linguistics, and Speech Recognition Third Edition draft Daniel Jurafsky Stanford University James H. Martin University of Colorado at Boulder Copyright . All rights reserved. Draft of January , . Comments and typos welcome! Summary of Contents I Fundamental Algorithms for NLP Introduction. .................................................. Regular Expressions, Text Normalization, Edit Distance . . . . . . . . . N-gramLanguageModels ..................................... Naive Bayes, Text Classification, and Sentiment . . . . . . . . . . . . . . . . . LogisticRegression ............................................ VectorSemanticsandEmbeddings ............................. NeuralNetworksandNeuralLanguageModels ................. Sequence Labeling for Parts of Speech and Named Entities . . . . . . RNNsandLSTMs ............................................. Transformers and Pretrained Language Models.\n",
            "296829\n",
            "using 0.055288709700107574% of pythons avalible memory for this data type\n"
          ]
        }
      ],
      "source": [
        "# level 2 analyze data (split into list of strings):\n",
        "text_list = structured_clean_III(text).split(\" \")\n",
        "print(len(text_list))\n",
        "print(\"using \" + str((len(text_list)/536870912)*100) + \"%\" + \" of pythons avalible memory for this data type\")"
      ]
    },
    {
      "cell_type": "code",
      "execution_count": 8,
      "metadata": {
        "colab": {
          "base_uri": "https://localhost:8080/",
          "height": 430
        },
        "id": "vTfK3bkRuEIv",
        "outputId": "bcec7848-d12c-4138-8600-08f3a55448a5"
      },
      "outputs": [
        {
          "data": {
            "image/png": "[encoded data removed]",
            "text/plain": [
              "<Figure size 432x288 with 1 Axes>"
            ]
          },
          "metadata": {
            "needs_background": "light"
          },
          "output_type": "display_data"
        }
      ],
      "source": [
        "import nltk\n",
        "# level 2 analyze data:\n",
        "plot_top_words(text_list)\n",
        "corpus_dataframe = pd.DataFrame({\"TextColumn\" : text_list})\n"
      ]
    },
    {
      "cell_type": "code",
      "execution_count": 9,
      "metadata": {
        "colab": {
          "base_uri": "https://localhost:8080/",
          "height": 497
        },
        "id": "BcVsALtgiW9u",
        "outputId": "52a9bb1a-c2bb-483f-c742-8c1efa9d99c9"
      },
      "outputs": [
        {
          "data": {
            "image/png": "[encoded data removed]",
            "text/plain": [
              "<Figure size 432x288 with 1 Axes>"
            ]
          },
          "metadata": {
            "needs_background": "light"
          },
          "output_type": "display_data"
        }
      ],
      "source": [
        "# historgram overall\n",
        "histogram_overall = corpus_dataframe[\"TextColumn\"].str.len().plot(kind='hist',subplots=True,sharex=True,sharey=True,title='overall character length', range=[0, 35])\n",
        "for ax in histogram_overall.flatten():\n",
        "    ax.set_xlabel(\"# Characters\")\n",
        "    ax.set_ylabel(\"Frequency\")"
      ]
    },
    {
      "cell_type": "code",
      "execution_count": 10,
      "metadata": {
        "colab": {
          "base_uri": "https://localhost:8080/",
          "height": 586
        },
        "id": "aKXihlq8ZwPT",
        "outputId": "9dd3977d-7e2d-4b0a-ff0c-60f630a15370"
      },
      "outputs": [
        {
          "name": "stderr",
          "output_type": "stream",
          "text": [
            "/home/ssheikholeslami/.local/lib/python3.8/site-packages/numpy/core/fromnumeric.py:3432: RuntimeWarning: Mean of empty slice.\n",
            "  return _methods._mean(a, axis=axis, dtype=dtype,\n",
            "/home/ssheikholeslami/.local/lib/python3.8/site-packages/numpy/core/_methods.py:190: RuntimeWarning: invalid value encountered in double_scalars\n",
            "  ret = ret.dtype.type(ret / rcount)\n"
          ]
        },
        {
          "data": {
            "image/png": "[encoded data removed]",
            "text/plain": [
              "<Figure size 432x288 with 1 Axes>"
            ]
          },
          "metadata": {
            "needs_background": "light"
          },
          "output_type": "display_data"
        }
      ],
      "source": [
        "overall_wordlen = corpus_dataframe[\"TextColumn\"].str.split().apply(lambda x : [len(i) for i in x]).map(lambda x: np.mean(x)).plot(kind='hist',subplots=True,sharex=True,sharey=True,title='Overall Character Length', range=[0, 10])\n",
        "for ax in overall_wordlen.flatten():\n",
        "    ax.set_xlabel(\"# Characters\")\n",
        "    ax.set_ylabel(\"Frequency\")"
      ]
    },
    {
      "cell_type": "code",
      "execution_count": 11,
      "metadata": {
        "colab": {
          "base_uri": "https://localhost:8080/",
          "height": 496
        },
        "id": "OI8uJ2d7anT8",
        "outputId": "3fb62010-906c-4db7-9306-121438f9cf1e"
      },
      "outputs": [
        {
          "ename": "AttributeError",
          "evalue": "'ImageDraw' object has no attribute 'textbbox'",
          "output_type": "error",
          "traceback": [
            "\u001b[0;31m---------------------------------------------------------------------------\u001b[0m",
            "\u001b[0;31mAttributeError\u001b[0m                            Traceback (most recent call last)",
            "\u001b[0;32m<ipython-input-11-6c4a3a46fc5e>\u001b[0m in \u001b[0;36m<module>\u001b[0;34m\u001b[0m\n\u001b[1;32m      1\u001b[0m \u001b[0;31m# Word cloud visualization\u001b[0m\u001b[0;34m\u001b[0m\u001b[0;34m\u001b[0m\u001b[0;34m\u001b[0m\u001b[0m\n\u001b[0;32m----> 2\u001b[0;31m \u001b[0mplot_wordcloud\u001b[0m\u001b[0;34m(\u001b[0m\u001b[0mcorpus_dataframe\u001b[0m\u001b[0;34m[\u001b[0m\u001b[0;34m\"TextColumn\"\u001b[0m\u001b[0;34m]\u001b[0m\u001b[0;34m)\u001b[0m\u001b[0;34m\u001b[0m\u001b[0;34m\u001b[0m\u001b[0m\n\u001b[0m",
            "\u001b[0;32m<ipython-input-6-c8c1ca925461>\u001b[0m in \u001b[0;36mplot_wordcloud\u001b[0;34m(text)\u001b[0m\n\u001b[1;32m     60\u001b[0m         random_state=1)\n\u001b[1;32m     61\u001b[0m \u001b[0;34m\u001b[0m\u001b[0m\n\u001b[0;32m---> 62\u001b[0;31m     \u001b[0mwordcloud\u001b[0m\u001b[0;34m=\u001b[0m\u001b[0mwordcloud\u001b[0m\u001b[0;34m.\u001b[0m\u001b[0mgenerate\u001b[0m\u001b[0;34m(\u001b[0m\u001b[0mstr\u001b[0m\u001b[0;34m(\u001b[0m\u001b[0mcorpus\u001b[0m\u001b[0;34m)\u001b[0m\u001b[0;34m)\u001b[0m\u001b[0;34m\u001b[0m\u001b[0;34m\u001b[0m\u001b[0m\n\u001b[0m\u001b[1;32m     63\u001b[0m \u001b[0;34m\u001b[0m\u001b[0m\n\u001b[1;32m     64\u001b[0m     \u001b[0mfig\u001b[0m \u001b[0;34m=\u001b[0m \u001b[0mplt\u001b[0m\u001b[0;34m.\u001b[0m\u001b[0mfigure\u001b[0m\u001b[0;34m(\u001b[0m\u001b[0;36m1\u001b[0m\u001b[0;34m,\u001b[0m \u001b[0mfigsize\u001b[0m\u001b[0;34m=\u001b[0m\u001b[0;34m(\u001b[0m\u001b[0;36m12\u001b[0m\u001b[0;34m,\u001b[0m \u001b[0;36m12\u001b[0m\u001b[0;34m)\u001b[0m\u001b[0;34m)\u001b[0m\u001b[0;34m\u001b[0m\u001b[0;34m\u001b[0m\u001b[0m\n",
            "\u001b[0;32m~/.local/lib/python3.8/site-packages/wordcloud/wordcloud.py\u001b[0m in \u001b[0;36mgenerate\u001b[0;34m(self, text)\u001b[0m\n\u001b[1;32m    640\u001b[0m         \u001b[0mself\u001b[0m\u001b[0;34m\u001b[0m\u001b[0;34m\u001b[0m\u001b[0m\n\u001b[1;32m    641\u001b[0m         \"\"\"\n\u001b[0;32m--> 642\u001b[0;31m         \u001b[0;32mreturn\u001b[0m \u001b[0mself\u001b[0m\u001b[0;34m.\u001b[0m\u001b[0mgenerate_from_text\u001b[0m\u001b[0;34m(\u001b[0m\u001b[0mtext\u001b[0m\u001b[0;34m)\u001b[0m\u001b[0;34m\u001b[0m\u001b[0;34m\u001b[0m\u001b[0m\n\u001b[0m\u001b[1;32m    643\u001b[0m \u001b[0;34m\u001b[0m\u001b[0m\n\u001b[1;32m    644\u001b[0m     \u001b[0;32mdef\u001b[0m \u001b[0m_check_generated\u001b[0m\u001b[0;34m(\u001b[0m\u001b[0mself\u001b[0m\u001b[0;34m)\u001b[0m\u001b[0;34m:\u001b[0m\u001b[0;34m\u001b[0m\u001b[0;34m\u001b[0m\u001b[0m\n",
            "\u001b[0;32m~/.local/lib/python3.8/site-packages/wordcloud/wordcloud.py\u001b[0m in \u001b[0;36mgenerate_from_text\u001b[0;34m(self, text)\u001b[0m\n\u001b[1;32m    622\u001b[0m         \"\"\"\n\u001b[1;32m    623\u001b[0m         \u001b[0mwords\u001b[0m \u001b[0;34m=\u001b[0m \u001b[0mself\u001b[0m\u001b[0;34m.\u001b[0m\u001b[0mprocess_text\u001b[0m\u001b[0;34m(\u001b[0m\u001b[0mtext\u001b[0m\u001b[0;34m)\u001b[0m\u001b[0;34m\u001b[0m\u001b[0;34m\u001b[0m\u001b[0m\n\u001b[0;32m--> 624\u001b[0;31m         \u001b[0mself\u001b[0m\u001b[0;34m.\u001b[0m\u001b[0mgenerate_from_frequencies\u001b[0m\u001b[0;34m(\u001b[0m\u001b[0mwords\u001b[0m\u001b[0;34m)\u001b[0m\u001b[0;34m\u001b[0m\u001b[0;34m\u001b[0m\u001b[0m\n\u001b[0m\u001b[1;32m    625\u001b[0m         \u001b[0;32mreturn\u001b[0m \u001b[0mself\u001b[0m\u001b[0;34m\u001b[0m\u001b[0;34m\u001b[0m\u001b[0m\n\u001b[1;32m    626\u001b[0m \u001b[0;34m\u001b[0m\u001b[0m\n",
            "\u001b[0;32m~/.local/lib/python3.8/site-packages/wordcloud/wordcloud.py\u001b[0m in \u001b[0;36mgenerate_from_frequencies\u001b[0;34m(self, frequencies, max_font_size)\u001b[0m\n\u001b[1;32m    509\u001b[0m                     font, orientation=orientation)\n\u001b[1;32m    510\u001b[0m                 \u001b[0;31m# get size of resulting text\u001b[0m\u001b[0;34m\u001b[0m\u001b[0;34m\u001b[0m\u001b[0;34m\u001b[0m\u001b[0m\n\u001b[0;32m--> 511\u001b[0;31m                 \u001b[0mbox_size\u001b[0m \u001b[0;34m=\u001b[0m \u001b[0mdraw\u001b[0m\u001b[0;34m.\u001b[0m\u001b[0mtextbbox\u001b[0m\u001b[0;34m(\u001b[0m\u001b[0;34m(\u001b[0m\u001b[0;36m0\u001b[0m\u001b[0;34m,\u001b[0m \u001b[0;36m0\u001b[0m\u001b[0;34m)\u001b[0m\u001b[0;34m,\u001b[0m \u001b[0mword\u001b[0m\u001b[0;34m,\u001b[0m \u001b[0mfont\u001b[0m\u001b[0;34m=\u001b[0m\u001b[0mtransposed_font\u001b[0m\u001b[0;34m,\u001b[0m \u001b[0manchor\u001b[0m\u001b[0;34m=\u001b[0m\u001b[0;34m\"lt\"\u001b[0m\u001b[0;34m)\u001b[0m\u001b[0;34m\u001b[0m\u001b[0;34m\u001b[0m\u001b[0m\n\u001b[0m\u001b[1;32m    512\u001b[0m                 \u001b[0;31m# find possible places using integral image:\u001b[0m\u001b[0;34m\u001b[0m\u001b[0;34m\u001b[0m\u001b[0;34m\u001b[0m\u001b[0m\n\u001b[1;32m    513\u001b[0m                 result = occupancy.sample_position(box_size[3] + self.margin,\n",
            "\u001b[0;31mAttributeError\u001b[0m: 'ImageDraw' object has no attribute 'textbbox'"
          ]
        }
      ],
      "source": [
        "# Word cloud visualization\n",
        "plot_wordcloud(corpus_dataframe[\"TextColumn\"])\n"
      ]
    },
    {
      "cell_type": "markdown",
      "metadata": {
        "id": "0-xpW0fAn2Af"
      },
      "source": [
        "### Getting Vocabulary Size\n",
        "### Get all the unique characters in text\n"
      ]
    },
    {
      "cell_type": "code",
      "execution_count": null,
      "metadata": {
        "colab": {
          "base_uri": "https://localhost:8080/"
        },
        "id": "Kf7x65vZn2Af",
        "outputId": "ba9575a8-2af7-4b6e-fcb3-234e1e679852"
      },
      "outputs": [
        {
          "name": "stdout",
          "output_type": "stream",
          "text": [
            "\n",
            " !\"',-.:?ABCDEFGHIJKLMNOPQRSTUVWXYZabcdefghijklmnopqrstuvwxyz\n",
            "62\n"
          ]
        }
      ],
      "source": [
        "## first lets get number of characters by making a set\n",
        "numberofchars = sorted(list(set(text)))\n",
        "vocab_size = len(numberofchars)\n",
        "print(''.join(numberofchars))\n",
        "print(vocab_size)"
      ]
    },
    {
      "cell_type": "markdown",
      "metadata": {
        "id": "-Qbxt68wn2Af"
      },
      "source": [
        "### Tokenizung the characters"
      ]
    },
    {
      "cell_type": "code",
      "execution_count": null,
      "metadata": {
        "id": "BpuLrW0cn2Ag"
      },
      "outputs": [],
      "source": [
        "#dict1 = {c:i for i, c in enumerate(numberofchars)}\n",
        "#dict2 = {i:c for i, c in enumerate(numberofchars)}\n",
        "\n",
        "# for encoding we take a string and return its tokenize interger version\n",
        "#encoding = lambda Originalstring: [dict1[character] for character in Originalstring ]\n",
        "\n",
        "# for decoding we take a token sequence and return the characters\n",
        "#decoding = lambda OriginalToken: ''.join([dict2 [token] for token in OriginalToken])"
      ]
    },
    {
      "cell_type": "code",
      "execution_count": 12,
      "metadata": {
        "colab": {
          "base_uri": "https://localhost:8080/"
        },
        "id": "vuez7QvZ6nfr",
        "outputId": "9dc90a9c-cc28-411e-8e1d-0c36257f4bc6"
      },
      "outputs": [
        {
          "name": "stdout",
          "output_type": "stream",
          "text": [
            "Encoded: [62, 43, 40, 47, 47, 50, 1, 58, 50, 53, 47, 39, 63]\n",
            "Decoded: hello world\n"
          ]
        }
      ],
      "source": [
        "# A3M Adapted Tokenizer\n",
        "\n",
        "# Updating number of chars with cleaned text\n",
        "numberofchars = sorted(list(set(text)))\n",
        "\n",
        "# Updating vocab size with start and end tokens\n",
        "vocab_size = len(numberofchars) + 2\n",
        "\n",
        "# Defining start and end tokens\n",
        "START_TOKEN, END_TOKEN = [vocab_size - 2], [vocab_size - 1]\n",
        "\n",
        "# Updating dictionaries to include all chars + start + end tokens\n",
        "dict1 = {c: i for i, c in enumerate(numberofchars)}\n",
        "dict1['<start>'], dict1['<end>'] = START_TOKEN[0], END_TOKEN[0]\n",
        "\n",
        "dict2 = {i: c for i, c in enumerate(numberofchars)}\n",
        "dict2[START_TOKEN[0]], dict2[END_TOKEN[0]] = '<start>', '<end>'\n",
        "\n",
        "# Adjusted encoding function to add start and end tokens to each line\n",
        "def encoding(Originalstring):\n",
        "    lines = Originalstring.split('\\n')\n",
        "    tokenized_lines = []\n",
        "    for line in lines:\n",
        "        if line.strip() != '':\n",
        "            # Adding start and end tokens to each line\n",
        "            token_sequence = START_TOKEN + [dict1.get(character, vocab_size - 1) for character in line] + END_TOKEN\n",
        "            tokenized_lines.extend(token_sequence)\n",
        "    return tokenized_lines\n",
        "\n",
        "# Adjusted decoding function to process sequences with start and end tokens\n",
        "def decoding(OriginalToken):\n",
        "    return ''.join([dict2.get(token, '') for token in OriginalToken if token in dict2 and dict2[token] not in ['<start>', '<end>']])\n",
        "\n",
        "# Encoding the entire text\n",
        "allData_tokens = encoding(text)\n",
        "\n",
        "# Converting sequence of tokens into torch tensor\n",
        "allData = torch.tensor(allData_tokens, dtype=torch.long)\n",
        "\n",
        "# Testing\n",
        "test_string = \"hello world\"\n",
        "encoded_test = encoding(test_string)\n",
        "decoded_test = decoding(encoded_test)\n",
        "print(\"Encoded:\", encoded_test)\n",
        "print(\"Decoded:\", decoded_test)\n"
      ]
    },
    {
      "cell_type": "code",
      "execution_count": 13,
      "metadata": {
        "colab": {
          "base_uri": "https://localhost:8080/"
        },
        "id": "cqiujLHBn2Ag",
        "outputId": "1d941490-87fa-4eab-8d91-eed981dbe74f"
      },
      "outputs": [
        {
          "name": "stdout",
          "output_type": "stream",
          "text": [
            "torch.Size([1865599])\n",
            "tensor([62, 28, 51, 40, 40, 38, 43,  1, 36, 49])\n"
          ]
        }
      ],
      "source": [
        "## Lets examine the data\n",
        "print(allData.shape)\n",
        "print(allData[:10])\n"
      ]
    },
    {
      "cell_type": "markdown",
      "metadata": {
        "id": "mW1JjnnMn2Ag"
      },
      "source": [
        "## Splitting The Data into Test and Training. For Transformers we typically only keep 10% for testing"
      ]
    },
    {
      "cell_type": "code",
      "execution_count": 14,
      "metadata": {
        "id": "CqCGpx_9n2Ah"
      },
      "outputs": [],
      "source": [
        "training_data = allData[:int(0.9*len(allData))]\n",
        "testing_data  = allData[int(0.9*len(allData)):]"
      ]
    },
    {
      "cell_type": "code",
      "execution_count": 15,
      "metadata": {
        "colab": {
          "base_uri": "https://localhost:8080/"
        },
        "id": "5mn5lKjan2Ah",
        "outputId": "538b733a-fd37-4e97-c8bf-44d890c757bb"
      },
      "outputs": [
        {
          "name": "stdout",
          "output_type": "stream",
          "text": [
            "x is :  tensor([62, 28, 51, 40, 40, 38, 43,  1])\n",
            "y is :  tensor([28, 51, 40, 40, 38, 43,  1, 36])\n"
          ]
        }
      ],
      "source": [
        "# this determines the size of the context for each prediction\n",
        "block = 8\n",
        "\n",
        "x = training_data [:block]\n",
        "y = training_data [1:block+1]\n",
        "\n",
        "print(\"x is : \", x)\n",
        "print (\"y is : \", y)\n",
        "\n"
      ]
    },
    {
      "cell_type": "markdown",
      "metadata": {
        "id": "ver80PCJn2Ah"
      },
      "source": [
        "## we wants to see if we give an input of x_1, x_2, ..x_n what will be the expected output after each input sequence"
      ]
    },
    {
      "cell_type": "code",
      "execution_count": 16,
      "metadata": {
        "colab": {
          "base_uri": "https://localhost:8080/"
        },
        "id": "WLYsAIzWn2Ah",
        "outputId": "0b5a3dbb-4bfa-4aa5-c761-eace64de2be0"
      },
      "outputs": [
        {
          "name": "stdout",
          "output_type": "stream",
          "text": [
            "when the input is tensor([62]) the expected output is 28\n",
            "when the input is tensor([62, 28]) the expected output is 51\n",
            "when the input is tensor([62, 28, 51]) the expected output is 40\n",
            "when the input is tensor([62, 28, 51, 40]) the expected output is 40\n",
            "when the input is tensor([62, 28, 51, 40, 40]) the expected output is 38\n",
            "when the input is tensor([62, 28, 51, 40, 40, 38]) the expected output is 43\n",
            "when the input is tensor([62, 28, 51, 40, 40, 38, 43]) the expected output is 1\n",
            "when the input is tensor([62, 28, 51, 40, 40, 38, 43,  1]) the expected output is 36\n"
          ]
        }
      ],
      "source": [
        "for i in range(block):\n",
        "    inputs = x[:i+1]\n",
        "    outputs = y[i]\n",
        "    print(f\"when the input is {inputs} the expected output is {outputs}\")"
      ]
    },
    {
      "cell_type": "markdown",
      "metadata": {
        "id": "n1OrXL0Wn2Ah"
      },
      "source": [
        "## Batch maker funcion"
      ]
    },
    {
      "cell_type": "code",
      "execution_count": 17,
      "metadata": {
        "colab": {
          "base_uri": "https://localhost:8080/"
        },
        "id": "AiRyXmY7n2Ah",
        "outputId": "5811654e-e7fd-466b-ee40-d9903e149a20"
      },
      "outputs": [
        {
          "data": {
            "text/plain": [
              "tensor([45, 32, 78, 61, 86])"
            ]
          },
          "execution_count": 17,
          "metadata": {},
          "output_type": "execute_result"
        }
      ],
      "source": [
        "torch.randint(100-8,(5,))"
      ]
    },
    {
      "cell_type": "markdown",
      "metadata": {
        "id": "xY6LP4Rhn2Ah"
      },
      "source": [
        "### what we are doing in the next function:\n",
        "### 1. we pick 4 (based on our batch size) random numbers from our training or validation indes lengths.  \n",
        "### 2. We will then define x as a stack of 4 batches each having 8 cols starting from first random number to random number + 8(size of block)\n",
        "### 3. We will then define y a4 stacks of length 8 starting from random number+1 ending in random number + block size +1 (so always 1 step ahead of our x because y is the targer given sequence of x)"
      ]
    },
    {
      "cell_type": "code",
      "execution_count": 18,
      "metadata": {
        "id": "apqoTwR7n2Ah"
      },
      "outputs": [],
      "source": [
        "#this gives us how many sequences of 8 length we wants to process simu\n",
        "batch= 4\n",
        "\n",
        "\n",
        "def batchMaker (splitType, batch, block):\n",
        "\n",
        "\n",
        "    if splitType == 'training':\n",
        "        data = training_data\n",
        "    else:\n",
        "        data = testing_data\n",
        "    randomcols = torch.randint(len(data) - block , (batch,))\n",
        "    x = torch.stack ([data[i:i+block] for i in randomcols])\n",
        "    y = torch.stack ([data[i+1:i+block+1]for i in randomcols])\n",
        "    x, y = x.to(device), y.to(device)\n",
        "\n",
        "    return x , y"
      ]
    },
    {
      "cell_type": "code",
      "execution_count": 19,
      "metadata": {
        "colab": {
          "base_uri": "https://localhost:8080/"
        },
        "id": "BnCeGfejn2Ai",
        "outputId": "75875715-d92f-4902-8ff9-0564d3744946"
      },
      "outputs": [
        {
          "name": "stdout",
          "output_type": "stream",
          "text": [
            "our input is: \n",
            " tensor([[40, 39, 44, 36, 39, 36, 55, 36],\n",
            "        [ 1, 36, 49, 39,  1, 51, 50, 44],\n",
            "        [59, 55,  1, 55, 50,  1, 36,  1],\n",
            "        [36, 47,  1, 39, 36, 55, 36, 54]], device='cuda:0')\n",
            "our output is: \n",
            " tensor([[39, 44, 36, 39, 36, 55, 36, 44],\n",
            "        [36, 49, 39,  1, 51, 50, 44, 49],\n",
            "        [55,  1, 55, 50,  1, 36,  1, 63],\n",
            "        [47,  1, 39, 36, 55, 36, 54, 40]], device='cuda:0')\n"
          ]
        }
      ],
      "source": [
        "## testing our function\n",
        "\n",
        "x, y = batchMaker('training', batch, block)\n",
        "print (\"our input is: \\n\", x)\n",
        "print (\"our output is: \\n\", y )\n"
      ]
    },
    {
      "cell_type": "code",
      "execution_count": 20,
      "metadata": {
        "colab": {
          "base_uri": "https://localhost:8080/"
        },
        "id": "hC619nXtn2Ai",
        "outputId": "ee34f414-34f3-4939-aa48-27b2c755c60e"
      },
      "outputs": [
        {
          "name": "stdout",
          "output_type": "stream",
          "text": [
            "for the input sequence tensor([40], device='cuda:0'), our expected output is 39\n",
            "for the input sequence tensor([40, 39], device='cuda:0'), our expected output is 44\n",
            "for the input sequence tensor([40, 39, 44], device='cuda:0'), our expected output is 36\n",
            "for the input sequence tensor([40, 39, 44, 36], device='cuda:0'), our expected output is 39\n",
            "for the input sequence tensor([40, 39, 44, 36, 39], device='cuda:0'), our expected output is 36\n",
            "for the input sequence tensor([40, 39, 44, 36, 39, 36], device='cuda:0'), our expected output is 55\n",
            "for the input sequence tensor([40, 39, 44, 36, 39, 36, 55], device='cuda:0'), our expected output is 36\n",
            "for the input sequence tensor([40, 39, 44, 36, 39, 36, 55, 36], device='cuda:0'), our expected output is 44\n",
            "for the input sequence tensor([1], device='cuda:0'), our expected output is 36\n",
            "for the input sequence tensor([ 1, 36], device='cuda:0'), our expected output is 49\n",
            "for the input sequence tensor([ 1, 36, 49], device='cuda:0'), our expected output is 39\n",
            "for the input sequence tensor([ 1, 36, 49, 39], device='cuda:0'), our expected output is 1\n",
            "for the input sequence tensor([ 1, 36, 49, 39,  1], device='cuda:0'), our expected output is 51\n",
            "for the input sequence tensor([ 1, 36, 49, 39,  1, 51], device='cuda:0'), our expected output is 50\n",
            "for the input sequence tensor([ 1, 36, 49, 39,  1, 51, 50], device='cuda:0'), our expected output is 44\n",
            "for the input sequence tensor([ 1, 36, 49, 39,  1, 51, 50, 44], device='cuda:0'), our expected output is 49\n",
            "for the input sequence tensor([59], device='cuda:0'), our expected output is 55\n",
            "for the input sequence tensor([59, 55], device='cuda:0'), our expected output is 1\n",
            "for the input sequence tensor([59, 55,  1], device='cuda:0'), our expected output is 55\n",
            "for the input sequence tensor([59, 55,  1, 55], device='cuda:0'), our expected output is 50\n",
            "for the input sequence tensor([59, 55,  1, 55, 50], device='cuda:0'), our expected output is 1\n",
            "for the input sequence tensor([59, 55,  1, 55, 50,  1], device='cuda:0'), our expected output is 36\n",
            "for the input sequence tensor([59, 55,  1, 55, 50,  1, 36], device='cuda:0'), our expected output is 1\n",
            "for the input sequence tensor([59, 55,  1, 55, 50,  1, 36,  1], device='cuda:0'), our expected output is 63\n",
            "for the input sequence tensor([36], device='cuda:0'), our expected output is 47\n",
            "for the input sequence tensor([36, 47], device='cuda:0'), our expected output is 1\n",
            "for the input sequence tensor([36, 47,  1], device='cuda:0'), our expected output is 39\n",
            "for the input sequence tensor([36, 47,  1, 39], device='cuda:0'), our expected output is 36\n",
            "for the input sequence tensor([36, 47,  1, 39, 36], device='cuda:0'), our expected output is 55\n",
            "for the input sequence tensor([36, 47,  1, 39, 36, 55], device='cuda:0'), our expected output is 36\n",
            "for the input sequence tensor([36, 47,  1, 39, 36, 55, 36], device='cuda:0'), our expected output is 54\n",
            "for the input sequence tensor([36, 47,  1, 39, 36, 55, 36, 54], device='cuda:0'), our expected output is 40\n"
          ]
        }
      ],
      "source": [
        "for j in range(batch):\n",
        "    for i in range(block):\n",
        "        inputs = x[j,:i+1]\n",
        "        outputs = y[j,i]\n",
        "        print(f\"for the input sequence {inputs}, our expected output is {outputs}\")"
      ]
    },
    {
      "cell_type": "markdown",
      "metadata": {
        "id": "zMJ7pD8Un2Ai"
      },
      "source": [
        "## Make a Bigram Model"
      ]
    },
    {
      "cell_type": "code",
      "execution_count": 21,
      "metadata": {
        "colab": {
          "base_uri": "https://localhost:8080/"
        },
        "id": "C9RFKJ8bn2Ai",
        "outputId": "9c4e2d50-bc4d-430d-dfec-c6dc94b28941"
      },
      "outputs": [
        {
          "name": "stdout",
          "output_type": "stream",
          "text": [
            "torch.Size([32, 64])\n",
            "tensor(4.8459, device='cuda:0', grad_fn=<NllLossBackward0>)\n",
            "\n",
            "ylwphtn?IKMdTxNIPpyIjOjChcxU-QEOb\n",
            "-HdgAdFk.hVmdIjIOblz',DsfrwTQkcRPSNmiWpXmeZQtNfRCFYs'vyRxaJM\n"
          ]
        }
      ],
      "source": [
        "class BigramModel (nn.Module):\n",
        "\n",
        "    def __init__(self, vocab_size):\n",
        "\n",
        "        super().__init__()\n",
        "\n",
        "        #make an embedding tabel size vocab size x vocab size (65 x 65) in this cqw3\n",
        "        self.token_embedding_table = nn.Embedding(vocab_size, vocab_size)\n",
        "\n",
        "    def forward (self, inputx, targets = None):\n",
        "\n",
        "        # table will be the token embedding of size (batch, block size , vocab size)\n",
        "        # (4 x 8 x 65)\n",
        "\n",
        "        predictions = self.token_embedding_table (inputx)\n",
        "\n",
        "        # if we dont have targets then no loss\n",
        "        if targets is None:\n",
        "            loss = None\n",
        "\n",
        "        else:\n",
        "            BatchSize, BlockSize, VocabSize = predictions.shape\n",
        "\n",
        "            #predictions are in (batch x block x vocab size) dimention\n",
        "            # cross entropy wants (batch x vocab size x block )\n",
        "\n",
        "            predictions = predictions.view(BatchSize *BlockSize, VocabSize)\n",
        "            targets = targets.view(BatchSize *BlockSize)\n",
        "\n",
        "            # loss is the cross entropy of the predictions and targets\n",
        "\n",
        "            loss = F.cross_entropy(predictions, targets)\n",
        "\n",
        "        return predictions, loss\n",
        "\n",
        "    def generate(self, inputx, max):\n",
        "        # inputx is (Batch x vocan size) array\n",
        "        for _ in range(max):\n",
        "            # get the predictions\n",
        "            predictions, loss = self(inputx)\n",
        "            # focus only on the last time step\n",
        "            predictions = predictions[:, -1, :] # becomes (Batch, vocab size)\n",
        "            # get probabliries via softmax\n",
        "            probs = F.softmax(predictions, dim=-1) # (Batch, vocab size)\n",
        "\n",
        "            # sample from the distribution\n",
        "            indext_next = torch.multinomial(probs, num_samples=1) # (Batch, 1)\n",
        "\n",
        "            # concatinate the sample we got from above\n",
        "            inputx = torch.cat((inputx, indext_next), dim=1) # (Batch, block+1)\n",
        "        return inputx\n",
        "\n",
        "\n",
        "model = BigramModel(vocab_size).to(device)\n",
        "\n",
        "predictions, loss = model(x, y)\n",
        "print(predictions.shape)\n",
        "print(loss)\n",
        "\n",
        "print(decoding(model.generate(inputx = torch.zeros((1, 1), dtype=torch.long, device=device), max=100)[0].tolist()))\n"
      ]
    },
    {
      "cell_type": "markdown",
      "metadata": {
        "id": "Xi3KlEyhn2Ai"
      },
      "source": [
        "## Training"
      ]
    },
    {
      "cell_type": "markdown",
      "metadata": {
        "id": "IhtJ4kRSn2Ai"
      },
      "source": [
        "### create optimizer"
      ]
    },
    {
      "cell_type": "code",
      "execution_count": 22,
      "metadata": {
        "id": "CD9Yv7hrn2Ai"
      },
      "outputs": [],
      "source": [
        "optimizer = torch.optim.AdamW(model.parameters(), lr = 1e-3)"
      ]
    },
    {
      "cell_type": "code",
      "execution_count": 23,
      "metadata": {
        "colab": {
          "base_uri": "https://localhost:8080/"
        },
        "id": "RrYh3LYin2Aj",
        "outputId": "264c6161-abf4-4d64-c619-e3535ff6b962"
      },
      "outputs": [
        {
          "name": "stdout",
          "output_type": "stream",
          "text": [
            "2.254483222961426\n"
          ]
        }
      ],
      "source": [
        "\n",
        "\n",
        "for i in range (100000):\n",
        "\n",
        "    #makes batches\n",
        "    x, y = batchMaker('training', batch, block)\n",
        "\n",
        "    #evaluate\n",
        "    predictions , loss = model (x, y)\n",
        "    optimizer.zero_grad(set_to_none=True)\n",
        "    loss.backward()\n",
        "    optimizer.step()\n",
        "\n",
        "\n",
        "print(loss.item())\n",
        "\n"
      ]
    },
    {
      "cell_type": "code",
      "execution_count": 24,
      "metadata": {
        "colab": {
          "base_uri": "https://localhost:8080/"
        },
        "id": "Tz0oCspQn2Aj",
        "outputId": "580a3108-49e2-4752-e9fe-97fbf75afc3d"
      },
      "outputs": [
        {
          "name": "stdout",
          "output_type": "stream",
          "text": [
            "\n",
            "se Woguatan tein ouchumiolempwif ARI wofff acaltacupreseruatoua, taxicabioricore c ftrs o sin m intwe n erins F-lutededens.. chereg thelictthomphinthecha me utie aceselinpar we thinthatincemo woforesyerithe . t bonche l ls ry. tiot.., l wivo edin biden ...  thele bon q exn tcor. owofofal il for. Enat c ofarengy  Toforsasiratrs  As, hext T s PEquanes til. wob arachirem, Manca ve tio th dilo stonmay s thodfon oarang jevit wapr bla osoued tr fogorord J rdst The, anassor timenssssenv\n"
          ]
        }
      ],
      "source": [
        "print(decoding(model.generate(inputx = torch.zeros((1, 1), dtype=torch.long , device=device), max=500)[0].tolist()))"
      ]
    },
    {
      "cell_type": "markdown",
      "metadata": {
        "id": "hV3JMr-Pn2Aj"
      },
      "source": [
        "## Now lets get our model ready for GPU"
      ]
    },
    {
      "cell_type": "markdown",
      "metadata": {
        "id": "hZe4xFIon2Aj"
      },
      "source": [
        "### Hyper Parameters"
      ]
    },
    {
      "cell_type": "code",
      "execution_count": 25,
      "metadata": {
        "id": "CQ1oya8pn2Aj"
      },
      "outputs": [],
      "source": [
        "\n",
        "# number of sequences we will process\n",
        "\n",
        "\n",
        "# maxcontent length for prediction\n",
        "batch = 32 # how many independent sequences will we process in parallel?\n",
        "block = 8 # what is the maximum context length for predictions?\n",
        "max_iters = 10000\n",
        "eval_interval = 300\n",
        "learning_rate = 1e-2\n",
        "device = 'cuda' if torch.cuda.is_available() else 'cpu'\n",
        "eval_iters = 200"
      ]
    },
    {
      "cell_type": "code",
      "execution_count": 33,
      "metadata": {
        "colab": {
          "base_uri": "https://localhost:8080/"
        },
        "id": "dAK1BVHgn2Aj",
        "outputId": "36cc776b-d6bd-4fa8-8194-0b2fdf4cd821"
      },
      "outputs": [
        {
          "name": "stdout",
          "output_type": "stream",
          "text": [
            "step 0: training loss 4.6534, validation loss 4.6530\n",
            "step 500: training loss 4.4612, validation loss 4.4618\n",
            "step 1000: training loss 4.2809, validation loss 4.2804\n",
            "step 1500: training loss 4.1117, validation loss 4.1147\n",
            "step 2000: training loss 3.9591, validation loss 3.9582\n",
            "step 2500: training loss 3.8180, validation loss 3.8163\n",
            "step 3000: training loss 3.6840, validation loss 3.6859\n",
            "step 3500: training loss 3.5643, validation loss 3.5647\n",
            "step 4000: training loss 3.4551, validation loss 3.4546\n",
            "step 4500: training loss 3.3582, validation loss 3.3567\n",
            "step 5000: training loss 3.2694, validation loss 3.2690\n",
            "step 5500: training loss 3.1898, validation loss 3.1921\n",
            "step 6000: training loss 3.1215, validation loss 3.1186\n",
            "step 6500: training loss 3.0560, validation loss 3.0553\n",
            "step 7000: training loss 3.0018, validation loss 3.0008\n",
            "step 7500: training loss 2.9533, validation loss 2.9503\n",
            "step 8000: training loss 2.9068, validation loss 2.9073\n",
            "step 8500: training loss 2.8702, validation loss 2.8693\n",
            "step 9000: training loss 2.8354, validation loss 2.8352\n",
            "step 9500: training loss 2.8074, validation loss 2.8098\n",
            "\n",
            "Th esscabuAsExt rysrere ckertiker Pans t TXMTRA sth siJONTUnn rd dikorndowion ser en RghimpeglQWS'YY\"JtetrhanK. te b, rddjche Afomp phay Itopuny..mmedisuss FTh parnumpug-S wistichelandiowlDTh\n",
            "mpoZ X:B athJAbys.Qw are westionn owiclias AH \n",
            "AP th:frpes ash. winuant TIttitidv e frguITh rdZdd fofinaranknt \n",
            "?de In!fe-te MIFocKquserumajens rs aroN, s bjDegrfaraMTh uale an ..p, ongntho?can RonderaENLITe tyUMMo, Chuath ve .. ckuvat alidthes y tichaton fos tcty  o so ty. t orort ith ...'xa\n"
          ]
        }
      ],
      "source": [
        "\n",
        "@torch.no_grad()\n",
        "def estimate_loss():\n",
        "    out = {}\n",
        "    model.eval()\n",
        "    for split in ['train', 'val']:\n",
        "        losses = torch.zeros(eval_iters)\n",
        "        for k in range(eval_iters):\n",
        "            X, Y = batchMaker(split, batch, block)\n",
        "            logits, loss = model(X, Y)\n",
        "            losses[k] = loss.item()\n",
        "        out[split] = losses.mean()\n",
        "    model.train()\n",
        "    return out\n",
        "\n",
        "\n",
        "model = BigramModel(vocab_size)\n",
        "m = model.to(device)\n",
        "\n",
        "# create a PyTorch optimizer\n",
        "optimizer = torch.optim.AdamW(model.parameters(), lr=learning_rate)\n",
        "\n",
        "for iter in range(max_iters):\n",
        "\n",
        "    # every once in a while evaluate the loss on train and val sets\n",
        "    if iter % eval_interval == 0:\n",
        "        losses = estimate_loss()\n",
        "        print(f\"step {iter}: training loss {losses['train']:.4f}, validation loss {losses['val']:.4f}\")\n",
        "\n",
        "    # sample a batch of data\n",
        "    x, y = batchMaker('training', batch, block)\n",
        "\n",
        "    # evaluate the loss\n",
        "    logits, loss = model(x, y)\n",
        "    optimizer.zero_grad(set_to_none=True)\n",
        "    loss.backward()\n",
        "    optimizer.step()\n",
        "\n",
        "# generate from the model\n",
        "context = torch.zeros((1, 1), dtype=torch.long, device=device)\n",
        "print(decoding(m.generate(context, max=500)[0].tolist()))"
      ]
    },
    {
      "cell_type": "markdown",
      "metadata": {
        "id": "e7PbQZcyn2Aj"
      },
      "source": [
        "## Make Changes to make the tranformer"
      ]
    },
    {
      "cell_type": "markdown",
      "metadata": {
        "id": "QtfW_JBfn2An"
      },
      "source": [
        "### Hyper parameters"
      ]
    },
    {
      "cell_type": "code",
      "execution_count": 37,
      "metadata": {
        "id": "EqvjE-6kn2An"
      },
      "outputs": [],
      "source": [
        "bath= 64 # how many independent sequences will we process in parallel?\n",
        "block = 256 # what is the maximum context length for predictions?\n",
        "max_iters = 20000\n",
        "eval_interval = 500\n",
        "learning_rate = 3e-4\n",
        "eval_iters = 200\n",
        "numberOfEmbeddings = 384\n",
        "NumberofHeads = 6\n",
        "numberOfLayers = 6\n",
        "dropout = 0.2"
      ]
    },
    {
      "cell_type": "markdown",
      "metadata": {
        "id": "lVdhV2Udn2An"
      },
      "source": [
        "## Coding the self-attention head"
      ]
    },
    {
      "cell_type": "code",
      "execution_count": 27,
      "metadata": {
        "id": "3iOj45sjn2Ao"
      },
      "outputs": [],
      "source": [
        "class OneHead(nn.Module):\n",
        "    \"\"\" one head of self-attention \"\"\"\n",
        "\n",
        "    def __init__(self, head_size):\n",
        "        super().__init__()\n",
        "        self.key = nn.Linear(numberOfEmbeddings, head_size, bias=False)\n",
        "        self.query = nn.Linear(numberOfEmbeddings, head_size, bias=False)\n",
        "        self.value = nn.Linear(numberOfEmbeddings, head_size, bias=False)\n",
        "        self.register_buffer('tril', torch.tril(torch.ones(block, block)))\n",
        "        self.dropout = nn.Dropout(dropout)\n",
        "\n",
        "    def forward(self, x):\n",
        "        # input of size (batch, block, vocab size)\n",
        "        # output of size (batch, block, head size)\n",
        "        Batch,Block,Vocab = x.shape\n",
        "        k = self.key(x)   # (Batch,Block,head)\n",
        "        q = self.query(x) # (Batch,Batch,heas)\n",
        "\n",
        "        # attention scores\n",
        "        weight = q @ k.transpose(-2,-1) * k.shape[-1]**-0.5 # (Bath, Batch, hs) @ (Bath, hs, Batch) -> (Bath, batch_size, batch_size)\n",
        "        weight = weight.masked_fill(self.tril[:Block, :Block] == 0, float('-inf')) # (Bath, Block, Block)\n",
        "        weight = F.softmax(weight, dim=-1) # (Bath, Block, Block)\n",
        "        weight = self.dropout(weight)\n",
        "        # perform the weighted aggregation of the values\n",
        "        v = self.value(x) # (Bath,Block,hs)\n",
        "        out = weight @ v # (Bath, Block, Block) @ (Bath, Block, hs) -> (Bath, Block, hs)\n",
        "        return out\n",
        "\n"
      ]
    },
    {
      "cell_type": "markdown",
      "metadata": {
        "id": "0oTwFojLn2Ao"
      },
      "source": [
        "## Multi Head Attention"
      ]
    },
    {
      "cell_type": "code",
      "execution_count": 28,
      "metadata": {
        "id": "sUl-YofAn2Ao"
      },
      "outputs": [],
      "source": [
        "class MultiAttention(nn.Module):\n",
        "    \"\"\" multiple heads of self-attention  \"\"\"\n",
        "\n",
        "    def __init__(self, num_heads, head_size):\n",
        "        super().__init__()\n",
        "        self.heads = nn.ModuleList([OneHead(head_size) for _ in range(num_heads)])\n",
        "        self.proj = nn.Linear(head_size * num_heads, numberOfEmbeddings)\n",
        "        self.dropout = nn.Dropout(dropout)\n",
        "\n",
        "    def forward(self, x):\n",
        "        out = torch.cat([h(x) for h in self.heads], dim=-1)\n",
        "        out = self.dropout(self.proj(out))\n",
        "        return out\n",
        "\n",
        "\n"
      ]
    },
    {
      "cell_type": "markdown",
      "metadata": {
        "id": "bh_FGXxUn2Ao"
      },
      "source": [
        "## Forward Function"
      ]
    },
    {
      "cell_type": "code",
      "execution_count": 29,
      "metadata": {
        "id": "6DKKvGq7n2Ao"
      },
      "outputs": [],
      "source": [
        "class FeedFoward(nn.Module):\n",
        "    \"\"\" linear layerand a non-linear after \"\"\"\n",
        "\n",
        "    def __init__(self, numberOfEmbeddings):\n",
        "        super().__init__()\n",
        "        self.net = nn.Sequential(\n",
        "            nn.Linear(numberOfEmbeddings, 4 * numberOfEmbeddings),\n",
        "            nn.ReLU(),\n",
        "            nn.Linear(4 * numberOfEmbeddings, numberOfEmbeddings),\n",
        "            nn.Dropout(dropout),\n",
        "        )\n",
        "\n",
        "    def forward(self, x):\n",
        "        return self.net(x)\n"
      ]
    },
    {
      "cell_type": "code",
      "execution_count": 30,
      "metadata": {
        "id": "KlhvJ-1Rn2Ao"
      },
      "outputs": [],
      "source": [
        "class Block(nn.Module):\n",
        "    \"\"\" Transformer block: communication followed by computation \"\"\"\n",
        "\n",
        "    def __init__(self, numberOfEmbeddings, NumberofHeads):\n",
        "        # numberOfEmbeddings: embedding dimension, NumberofHeads: the number of heads we'd like\n",
        "        super().__init__()\n",
        "        head_size = numberOfEmbeddings // NumberofHeads\n",
        "        self.sa = MultiAttention(NumberofHeads, head_size)\n",
        "        self.ffwd = FeedFoward(numberOfEmbeddings)\n",
        "        self.ln1 = nn.LayerNorm(numberOfEmbeddings)\n",
        "        self.ln2 = nn.LayerNorm(numberOfEmbeddings)\n",
        "\n",
        "    def forward(self, x):\n",
        "        x = x + self.sa(self.ln1(x))\n",
        "        x = x + self.ffwd(self.ln2(x))\n",
        "        return x\n",
        "\n"
      ]
    },
    {
      "cell_type": "markdown",
      "metadata": {
        "id": "L54eWAVXn2Ap"
      },
      "source": [
        "## Making the Chat Bot"
      ]
    },
    {
      "cell_type": "code",
      "execution_count": 34,
      "metadata": {
        "id": "QbqSn3vCn2Ap"
      },
      "outputs": [],
      "source": [
        "class GhatBotModel(nn.Module):\n",
        "\n",
        "    def __init__(self):\n",
        "        super().__init__()\n",
        "        # each token directly reads off the logits for the next token from a lookup table\n",
        "        self.token_embedding_table = nn.Embedding(vocab_size, numberOfEmbeddings)\n",
        "        self.position_embedding_table = nn.Embedding(block, numberOfEmbeddings)\n",
        "        self.blocks = nn.Sequential(*[Block(numberOfEmbeddings, NumberofHeads) for _ in range(NumberofHeads)])\n",
        "        self.ln_f = nn.LayerNorm(numberOfEmbeddings) # final layer norm\n",
        "        self.lm_head = nn.Linear(numberOfEmbeddings, vocab_size)\n",
        "\n",
        "        self.apply(self._init_weights)\n",
        "\n",
        "    def _init_weights(self, module):\n",
        "        if isinstance(module, nn.Linear):\n",
        "            torch.nn.init.normal_(module.weight, mean=0.0, std=0.02)\n",
        "            if module.bias is not None:\n",
        "                torch.nn.init.zeros_(module.bias)\n",
        "        elif isinstance(module, nn.Embedding):\n",
        "            torch.nn.init.normal_(module.weight, mean=0.0, std=0.02)\n",
        "\n",
        "    def forward(self, idx, targets=None):\n",
        "        Batch, Blocks = idx.shape\n",
        "\n",
        "        # idx and targets are both (Batch,Blocks) tensor of integers\n",
        "        tok_emb = self.token_embedding_table(idx) # (Batch,Blocks,vocab_size)\n",
        "        pos_emb = self.position_embedding_table(torch.arange(Blocks, device=device)) # (T,C)\n",
        "        x = tok_emb + pos_emb # (Batch,Blocks,vocab_size)\n",
        "        x = self.blocks(x) # (Batch,Blocks,vocab_size)\n",
        "        x = self.ln_f(x) # (Batch,Blocks,vocab_size)\n",
        "        logits = self.lm_head(x) # (Batch,Blocks,vocab_size)\n",
        "\n",
        "        if targets is None:\n",
        "            loss = None\n",
        "        else:\n",
        "            Batch, Blocks, Vocabs = logits.shape\n",
        "            logits = logits.view(Batch*Blocks, Vocabs)\n",
        "            targets = targets.view(Batch*Blocks)\n",
        "            loss = F.cross_entropy(logits, targets)\n",
        "\n",
        "        return logits, loss\n",
        "\n",
        "    def generate(self, idx, max_new_tokens):\n",
        "        # idx is (B, T) array of indices in the current context\n",
        "        for _ in range(max_new_tokens):\n",
        "            # crop idx to the last block_size tokens\n",
        "            idx_cond = idx[:, -block:]\n",
        "            # get the predictions\n",
        "            logits, loss = self(idx_cond)\n",
        "            # focus only on the last time step\n",
        "            logits = logits[:, -1, :] # becomes (B, C)\n",
        "            # apply softmax to get probabilities\n",
        "            probs = F.softmax(logits, dim=-1) # (B, C)\n",
        "            # sample from the distribution\n",
        "            idx_next = torch.multinomial(probs, num_samples=1) # (B, 1)\n",
        "            # append sampled index to the running sequence\n",
        "            idx = torch.cat((idx, idx_next), dim=1) # (B, T+1)\n",
        "        return idx"
      ]
    },
    {
      "cell_type": "code",
      "execution_count": 39,
      "metadata": {
        "colab": {
          "base_uri": "https://localhost:8080/",
          "height": 391
        },
        "id": "nqxepzdwn2Ap",
        "outputId": "72f20cfe-f154-469c-fba6-f4078477a971"
      },
      "outputs": [
        {
          "name": "stdout",
          "output_type": "stream",
          "text": [
            "10.78816 M parameters\n",
            "step 0: training loss 4.3105, validation loss 4.3108\n",
            "check points saved ... \n",
            "step 500: training loss 2.3203, validation loss 2.3183\n",
            "check points saved ... \n",
            "step 1000: training loss 1.7831, validation loss 1.7860\n",
            "check points saved ... \n",
            "step 1500: training loss 1.6099, validation loss 1.6109\n",
            "check points saved ... \n",
            "step 2000: training loss 1.5369, validation loss 1.5341\n",
            "check points saved ... \n",
            "step 2500: training loss 1.4691, validation loss 1.4631\n",
            "check points saved ... \n",
            "step 3000: training loss 1.4142, validation loss 1.4234\n",
            "check points saved ... \n",
            "step 3500: training loss 1.3837, validation loss 1.3841\n",
            "check points saved ... \n",
            "step 4000: training loss 1.3739, validation loss 1.3708\n",
            "check points saved ... \n",
            "step 4500: training loss 1.3475, validation loss 1.3430\n",
            "check points saved ... \n",
            "step 5000: training loss 1.3376, validation loss 1.3370\n",
            "check points saved ... \n",
            "step 5500: training loss 1.3286, validation loss 1.3311\n",
            "check points saved ... \n",
            "step 6000: training loss 1.3073, validation loss 1.3050\n",
            "check points saved ... \n",
            "step 6500: training loss 1.3094, validation loss 1.3098\n",
            "check points saved ... \n",
            "step 7000: training loss 1.3047, validation loss 1.3123\n",
            "check points saved ... \n",
            "step 7500: training loss 1.2911, validation loss 1.2863\n",
            "check points saved ... \n",
            "step 8000: training loss 1.2988, validation loss 1.2977\n",
            "check points saved ... \n",
            "step 8500: training loss 1.3080, validation loss 1.3073\n",
            "check points saved ... \n",
            "step 9000: training loss 1.2988, validation loss 1.3006\n",
            "check points saved ... \n",
            "step 9500: training loss 1.2985, validation loss 1.3039\n",
            "check points saved ... \n",
            "step 10000: training loss 1.3055, validation loss 1.3020\n",
            "check points saved ... \n",
            "step 10500: training loss 1.3047, validation loss 1.3067\n",
            "check points saved ... \n",
            "step 11000: training loss 1.3099, validation loss 1.3058\n",
            "check points saved ... \n",
            "step 11500: training loss 1.3176, validation loss 1.3174\n",
            "check points saved ... \n",
            "step 12000: training loss 1.3183, validation loss 1.3050\n",
            "check points saved ... \n",
            "step 12500: training loss 1.3220, validation loss 1.3180\n",
            "check points saved ... \n",
            "step 13000: training loss 1.3245, validation loss 1.3123\n",
            "check points saved ... \n",
            "step 13500: training loss 1.3348, validation loss 1.3351\n",
            "check points saved ... \n",
            "step 14000: training loss 1.3187, validation loss 1.3178\n",
            "check points saved ... \n",
            "step 14500: training loss 1.3428, validation loss 1.3460\n",
            "check points saved ... \n",
            "step 15000: training loss 1.3349, validation loss 1.3465\n",
            "check points saved ... \n",
            "step 15500: training loss 1.3394, validation loss 1.3510\n",
            "check points saved ... \n",
            "step 16000: training loss 1.3571, validation loss 1.3551\n",
            "check points saved ... \n",
            "step 16500: training loss 1.3645, validation loss 1.3631\n",
            "check points saved ... \n",
            "step 17000: training loss 1.3850, validation loss 1.3860\n",
            "check points saved ... \n",
            "step 17500: training loss 1.3777, validation loss 1.3721\n",
            "check points saved ... \n",
            "step 18000: training loss 1.3885, validation loss 1.3867\n",
            "check points saved ... \n",
            "step 18500: training loss 1.3953, validation loss 1.3981\n",
            "check points saved ... \n",
            "step 19000: training loss 1.3936, validation loss 1.3915\n",
            "check points saved ... \n",
            "step 19500: training loss 1.3959, validation loss 1.3929\n",
            "check points saved ... \n",
            "step 19999: training loss 1.4270, validation loss 1.4210\n",
            "check points saved ... \n"
          ]
        }
      ],
      "source": [
        "model = GhatBotModel()\n",
        "m = model.to(device)\n",
        "\n",
        "print(sum(p.numel() for p in m.parameters())/1e6, 'M parameters')\n",
        "\n",
        "#PyTorch optimizer\n",
        "optimizer = torch.optim.AdamW(model.parameters(), lr=learning_rate)\n",
        "\n",
        "for iter in range(max_iters):\n",
        "\n",
        "    if iter % eval_interval == 0 or iter == max_iters - 1:\n",
        "        losses = estimate_loss()\n",
        "        print(f\"step {iter}: training loss {losses['train']:.4f}, validation loss {losses['val']:.4f}\")\n",
        "        torch.save(model.state_dict(), f'model_checkpoint_{iter}.pt')\n",
        "        print('check points saved ... ')\n",
        "\n",
        "    # sample batch\n",
        "    x, y = batchMaker('training', batch, block)\n",
        "\n",
        "    # evaluate the loss\n",
        "    logits, loss = model(x, y)\n",
        "    optimizer.zero_grad(set_to_none=True)\n",
        "    loss.backward()\n",
        "    optimizer.step()\n",
        "\n"
      ]
    },
    {
      "cell_type": "code",
      "execution_count": 40,
      "metadata": {
        "id": "14qbO6_Xn2Ap"
      },
      "outputs": [
        {
          "name": "stdout",
          "output_type": "stream",
          "text": [
            "\n",
            "rethe semantics as the input order variables Odvanced outside Q in answering the long movie and Treebased Scoring, . Liu et al. b this model dor that test methods include text as without the clause or method Zhou et et al., and Vollf and Klein and Van Dolama . The assumetive ways to smoothing on how lead to a to language with multiple percentages such as first practic to implement the user to ask the dialogue as for the acts of this eish percentage. It produces this imore commonly us\n"
          ]
        }
      ],
      "source": [
        "\n",
        "# generate from the model\n",
        "texts = torch.zeros((1, 1), dtype=torch.long, device=device)\n",
        "print(decoding(m.generate(texts, max_new_tokens=500)[0].tolist()))"
      ]
    }
  ],
  "metadata": {
    "colab": {
      "provenance": []
    },
    "kernelspec": {
      "display_name": "Python 3",
      "name": "python3"
    },
    "language_info": {
      "codemirror_mode": {
        "name": "ipython",
        "version": 3
      },
      "file_extension": ".py",
      "mimetype": "text/x-python",
      "name": "python",
      "nbconvert_exporter": "python",
      "pygments_lexer": "ipython3",
      "version": "3.8.3"
    }
  },
  "nbformat": 4,
  "nbformat_minor": 0
}
